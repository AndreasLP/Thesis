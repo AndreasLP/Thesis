{
 "cells": [
  {
   "cell_type": "code",
   "execution_count": 5,
   "metadata": {},
   "outputs": [],
   "source": [
    "import time\n",
    "import importlib\n",
    "from typing import Union\n",
    "from typing_extensions import TypedDict\n",
    "\n",
    "from mapie.regression import MapieRegressor\n",
    "from mapie.subsample import Subsample\n",
    "\n",
    "import numpy as np\n",
    "import pandas as pd\n",
    "from sklearn import linear_model as sk_linear_model\n",
    "from sklearn import tree\n",
    "from sklearn import ensemble\n",
    "from sklearn.metrics import mean_squared_error\n",
    "from sklearn.preprocessing import StandardScaler\n",
    "from sklearn import decomposition\n",
    "from sklearn.pipeline import Pipeline\n",
    "import torch \n",
    "import library.functions.misc_helper_functions as misc_helpers\n",
    "import library.data.data_helper_functions as data_helpers\n",
    "from library.base_models import tree_models, linear_models\n",
    "import matplotlib.pyplot as plt\n",
    "from matplotlib.lines import Line2D\n",
    "import mapie\n",
    "from sklearn.utils import parallel_backend\n",
    "\n",
    "from IPython.display import display, display_latex\n"
   ]
  },
  {
   "cell_type": "code",
   "execution_count": 6,
   "metadata": {},
   "outputs": [],
   "source": [
    "class ARGS(object):\n",
    "    def __init__(self):\n",
    "        self.batch_size = 1\n",
    "        self.data_type = torch.float\n",
    "        self.validation_fraction = 0.3\n",
    "        self.seed = 10\n",
    "        self.device = torch.device('cpu')\n",
    "        self.data_folder = '/work1/s174505/Thesis/Data/'\n",
    "        self.training_data_file = 'Real_data_training.pt'\n",
    "        self.debugging = False\n",
    "        self.use_cv = False\n",
    "args = ARGS()\n",
    "\n",
    "train_dataset, val_dataset = data_helpers.load_data_training(args)\n",
    "\n",
    "params = {'batch_size': args.batch_size,\n",
    "        'shuffle': False,\n",
    "        'drop_last': False}\n",
    "train_loader = torch.utils.data.DataLoader(train_dataset, **params)\n",
    "val_loader = torch.utils.data.DataLoader(val_dataset, **params)\n",
    "\n",
    "train_X = [X[0] for X,_ in train_loader]\n",
    "train_y = [y[0] for _,y in train_loader]\n",
    "val_X = [X[0] for X,_ in val_loader]\n",
    "val_y = [y[0] for _,y in val_loader]\n",
    "\n",
    "\n",
    "Atrain = torch.cat(train_X,axis=1).permute(1,0).numpy()\n",
    "ytrain = torch.cat(train_y,axis=1).permute(1,0).numpy()\n",
    "Aval = torch.cat(val_X,axis=1).permute(1,0).numpy()\n",
    "yval = torch.cat(val_y,axis=1).permute(1,0).numpy()\n",
    "\n",
    "Ascaler = StandardScaler()\n",
    "Ascaler.fit(Atrain)\n",
    "Atrain_trans = Ascaler.transform(Atrain)\n",
    "Aval_trans = Ascaler.transform(Aval)\n",
    "\n",
    "yscaler = StandardScaler()\n",
    "yscaler.fit(ytrain)\n",
    "ytrain_trans = yscaler.transform(ytrain)\n",
    "yval_trans = yscaler.transform(yval)\n",
    "\n",
    "def report_me(error, train: bool):\n",
    "    if train:\n",
    "        print('Train ME')\n",
    "    else:\n",
    "        print('Validation ME')\n",
    "    print(np.abs(error).mean(0), np.abs(error).mean(),sep='\\n\\t')\n",
    "    print(np.quantile(np.abs(error),0.95,axis=0), np.quantile(np.abs(error),0.95),sep='\\n\\t')\n",
    "    print(np.abs(error).max(0), np.abs(error).max(),sep='\\n\\t')\n",
    "\n",
    "    return (np.abs(error).mean(0), np.quantile(np.abs(error),0.95,axis=0),np.abs(error).max(0), \n",
    "            np.abs(error).mean(), np.quantile(np.abs(error),0.95),np.abs(error).max())"
   ]
  },
  {
   "cell_type": "markdown",
   "metadata": {},
   "source": [
    "## PCA"
   ]
  },
  {
   "cell_type": "code",
   "execution_count": 7,
   "metadata": {},
   "outputs": [
    {
     "name": "stdout",
     "output_type": "stream",
     "text": [
      "Quantiles: 19 25 30\n"
     ]
    },
    {
     "data": {
      "image/png": "[encoded data removed]",
      "text/plain": [
       "<Figure size 612x306 with 2 Axes>"
      ]
     },
     "metadata": {
      "needs_background": "light"
     },
     "output_type": "display_data"
    }
   ],
   "source": [
    "pca = decomposition.PCA()\n",
    "pca.fit(Atrain)\n",
    "\n",
    "explained_var = np.array(pca.explained_variance_ratio_)\n",
    "\n",
    "fig, axes = plt.subplots(1,2,figsize=(8.5, 4.25))\n",
    "ax = axes[0]\n",
    "ax.scatter(np.arange(1, len(explained_var)+1), explained_var)\n",
    "ax.set_xlabel('Componenet')\n",
    "ax.set_ylabel('Explained variance')\n",
    "ax.set_title('Explained variance by each component')\n",
    "ax.set_ylim([1e-5, 1])\n",
    "ax.set_yscale('log')\n",
    "ax = axes[1]\n",
    "ax.scatter(np.arange(1, len(explained_var)+1), explained_var.cumsum())\n",
    "q95 = np.nonzero(explained_var.cumsum()>=0.95)[0][0]+1\n",
    "q99 = np.nonzero(explained_var.cumsum()>=0.99)[0][0]+1\n",
    "q999 = np.nonzero(explained_var.cumsum()>=0.999)[0][0]+1\n",
    "ax.axvline(q95, color='k', ls='-', label='95 % quantile')\n",
    "ax.axvline(q99, color='k', ls='--', label='99 % quantile')\n",
    "ax.axvline(q999, color='k', ls=':', label='99.9 % quantile')\n",
    "ax.set_xlabel('# componenets')\n",
    "ax.set_ylabel('Explained variance (cumsum)')\n",
    "ax.set_title('Explained variance by cummulated components')\n",
    "ax.set_ylim([0, 1])\n",
    "ax.legend(loc='upper left')\n",
    "\n",
    "fig.tight_layout()\n",
    "print('Quantiles:', q95, q99, q999)\n",
    "\n",
    "fig.savefig('plots/PCA explained variance.pdf', format='pdf')"
   ]
  },
  {
   "cell_type": "code",
   "execution_count": 8,
   "metadata": {},
   "outputs": [],
   "source": [
    "pca_y = decomposition.PCA()\n",
    "pca_y.fit(ytrain)\n",
    "\n",
    "explained_var_y = np.array(pca_y.explained_variance_ratio_)"
   ]
  },
  {
   "cell_type": "code",
   "execution_count": 104,
   "metadata": {},
   "outputs": [],
   "source": [
    "print(Atrain.shape)"
   ]
  },
  {
   "cell_type": "markdown",
   "metadata": {},
   "source": [
    "## Constant models"
   ]
  },
  {
   "cell_type": "code",
   "execution_count": 10,
   "metadata": {},
   "outputs": [
    {
     "name": "stdout",
     "output_type": "stream",
     "text": [
      "Train ME\n",
      "[0.56512874 0.5893672  0.3323355  0.3241251  0.70823234 0.74861276\n",
      " 0.45993766 0.46560386 1.5619465  1.5766225  1.4488736  1.4507049 ]\n",
      "\t0.8526244\n",
      "[1.78974247 1.85978711 0.87995857 0.85991096 2.06283259 2.14725447\n",
      " 1.27048934 1.29931569 4.46131659 4.4808116  3.92779016 3.91708612]\n",
      "\t2.921316623687744\n",
      "[ 9.290257   9.340213   5.5899587  5.689911   6.4328327  6.9527454\n",
      "  5.100489   4.660684  12.931316  13.469188  14.60221   14.942913 ]\n",
      "\t14.942913\n",
      "Validation ME\n",
      "[0.526786   0.5661305  0.33304566 0.32691646 0.7142421  0.75255877\n",
      " 0.44327524 0.45337152 1.6246799  1.6326784  1.5314623  1.5115854 ]\n",
      "\t0.86806095\n",
      "[1.66025746 1.76978707 0.88004142 0.87008905 2.14283276 2.2172544\n",
      " 1.23048937 1.24068427 4.83131695 4.81918812 4.35779047 4.29708624]\n",
      "\t3.0291879177093506\n",
      "[ 7.4902573  7.7902126  2.9400415  3.029911   8.032832   7.2727456\n",
      "  3.0504894  3.0806842 14.258684  13.430812   9.782209   9.752913 ]\n",
      "\t14.258684\n"
     ]
    }
   ],
   "source": [
    "train_mean = ytrain.mean(0)\n",
    "err_train_mean = train_mean - ytrain\n",
    "err_val_mean = train_mean - yval\n",
    "\n",
    "constant_train = report_me(err_train_mean, train=True)\n",
    "constant_val = report_me(err_val_mean, train=False)"
   ]
  },
  {
   "cell_type": "markdown",
   "metadata": {},
   "source": [
    "## Linear model"
   ]
  },
  {
   "cell_type": "code",
   "execution_count": 11,
   "metadata": {},
   "outputs": [
    {
     "name": "stdout",
     "output_type": "stream",
     "text": [
      "Train ME\n",
      "[0.5101298  0.5337882  0.33123446 0.32305726 0.70254946 0.74257857\n",
      " 0.458983   0.46469292 1.5571958  1.5709985  1.4477519  1.4497656 ]\n",
      "\t0.84106505\n",
      "[1.51964173 1.59631497 0.87309667 0.85487162 2.04191986 2.12262379\n",
      " 1.26682341 1.29498649 4.44135375 4.45906775 3.92417301 3.91977435]\n",
      "\t2.8790006399154646\n",
      "[ 7.402914   7.8077736  5.5889163  5.7452283  6.31154    6.875325\n",
      "  5.1139407  4.6068897 13.366178  13.863679  14.57482   14.934152 ]\n",
      "\t14.934152\n",
      "Validation ME\n",
      "[0.48112458 0.517541   0.33250365 0.32597846 0.709594   0.746675\n",
      " 0.4427423  0.45258802 1.6173155  1.6253062  1.5295784  1.5099715 ]\n",
      "\t0.8575764\n",
      "[1.42538303 1.53634385 0.87886211 0.86460984 2.11498053 2.1869848\n",
      " 1.23038084 1.23927256 4.81410618 4.80343254 4.34738181 4.30216458]\n",
      "\t2.9886008262634274\n",
      "[ 6.443906   5.968342   2.9622242  3.0582447  7.958668   7.181669\n",
      "  3.0371447  3.0628471 14.371231  13.606842   9.892001   9.853043 ]\n",
      "\t14.371231\n"
     ]
    }
   ],
   "source": [
    "reg = sk_linear_model.LinearRegression()\n",
    "reg.fit(Atrain_trans, ytrain)\n",
    "\n",
    "yhat_train = reg.predict(Atrain_trans)\n",
    "yhat_val = reg.predict(Aval_trans)\n",
    "\n",
    "err_train = yhat_train - ytrain\n",
    "err_val = yhat_val - yval\n",
    "\n",
    "linear_train = report_me(err_train, train=True)\n",
    "linear_val = report_me(err_val, train=False)"
   ]
  },
  {
   "cell_type": "code",
   "execution_count": 12,
   "metadata": {},
   "outputs": [
    {
     "name": "stdout",
     "output_type": "stream",
     "text": [
      "3247539.5\n",
      "7.0979333\n"
     ]
    }
   ],
   "source": [
    "print(np.linalg.cond(Atrain))\n",
    "print(np.linalg.cond(Atrain_trans))"
   ]
  },
  {
   "cell_type": "code",
   "execution_count": 13,
   "metadata": {},
   "outputs": [],
   "source": [
    "N = 50\n",
    "Ridge_train_ME = [None] * N\n",
    "Ridge_val_ME = [None] * N\n",
    "alphas = np.logspace(4, np.log10(50000), N)\n",
    "for i, alpha in enumerate(alphas):\n",
    "    reg = sk_linear_model.Ridge(alpha=alpha)\n",
    "    reg.fit(Atrain_trans, ytrain)\n",
    "\n",
    "    yhat_train = reg.predict(Atrain_trans)\n",
    "    yhat_val = reg.predict(Aval_trans)\n",
    "\n",
    "    err_train = yhat_train - ytrain\n",
    "    err_val = yhat_val - yval\n",
    "    \n",
    "    Ridge_train_ME[i] = np.abs(err_train).mean()\n",
    "    Ridge_val_ME[i] = np.abs(err_val).mean()"
   ]
  },
  {
   "cell_type": "code",
   "execution_count": 14,
   "metadata": {},
   "outputs": [
    {
     "name": "stdout",
     "output_type": "stream",
     "text": [
      "Train ME\n",
      "[0.50640684 0.5289492  0.33129653 0.32313043 0.7025018  0.7426842\n",
      " 0.45898694 0.46465018 1.5561876  1.5702189  1.4477035  1.4496994 ]\n",
      "\t0.8402039\n",
      "[1.53987911 1.61642179 0.87354329 0.8548715  2.04283845 2.1266107\n",
      " 1.26764184 1.29684362 4.43782494 4.458833   3.92356713 3.91966267]\n",
      "\t2.883601570129394\n",
      "[ 7.5413     7.8449492  5.5546083  5.7085032  6.3594785  6.8009853\n",
      "  5.081898   4.61364   13.29843   13.79885   14.579403  14.938127 ]\n",
      "\t14.938127\n",
      "Validation ME\n",
      "[0.47583288 0.5108103  0.33251244 0.32599136 0.7091182  0.74653494\n",
      " 0.44258803 0.45251614 1.6169803  1.6250926  1.5297302  1.5100276 ]\n",
      "\t0.8564796\n",
      "[1.44428918 1.54818252 0.87827126 0.866177   2.11706758 2.1908594\n",
      " 1.23252234 1.23802965 4.80755215 4.81147702 4.35161557 4.30438268]\n",
      "\t2.992372369766234\n",
      "[ 6.184156   6.22925    2.9685204  3.045132   7.98498    7.2022257\n",
      "  3.037142   3.0617237 14.351125  13.582962   9.851662   9.819556 ]\n",
      "\t14.351125\n"
     ]
    }
   ],
   "source": [
    "reg = sk_linear_model.Ridge(alpha=alphas[np.argmin(Ridge_val_ME)])\n",
    "reg.fit(Atrain_trans, ytrain)\n",
    "\n",
    "yhat_train = reg.predict(Atrain_trans)\n",
    "yhat_val = reg.predict(Aval_trans)\n",
    "\n",
    "err_train = yhat_train - ytrain\n",
    "err_val = yhat_val - yval\n",
    "\n",
    "ridge_train = report_me(err_train, train=True)\n",
    "ridge_val = report_me(err_val, train=False)"
   ]
  },
  {
   "cell_type": "code",
   "execution_count": 15,
   "metadata": {},
   "outputs": [
    {
     "data": {
      "image/png": "[encoded data removed]",
      "text/plain": [
       "<Figure size 576x288 with 2 Axes>"
      ]
     },
     "metadata": {
      "needs_background": "light"
     },
     "output_type": "display_data"
    }
   ],
   "source": [
    "fig, axes = plt.subplots(1,2,figsize=(8,4))\n",
    "axes[0].plot(alphas, Ridge_train_ME, label='Ridge')\n",
    "axes[0].scatter(alphas[np.argmin(Ridge_val_ME)], Ridge_train_ME[np.argmin(Ridge_val_ME)], color='r')\n",
    "axes[0].set_title('Train ME')\n",
    "\n",
    "axes[1].plot(alphas, Ridge_val_ME)\n",
    "axes[1].scatter(alphas[np.argmin(Ridge_val_ME)], Ridge_val_ME[np.argmin(Ridge_val_ME)], color='r')\n",
    "axes[1].set_title('Validation ME')\n",
    "for ax in axes:\n",
    "    ax.set_xscale('log')\n",
    "    ax.set_xlabel(\"λ\")\n",
    "    ax.set_ylabel('ME')\n",
    "fig.tight_layout()\n",
    "fig.savefig('plots/Ridge coefficient.pdf', format='pdf')"
   ]
  },
  {
   "cell_type": "code",
   "execution_count": 16,
   "metadata": {},
   "outputs": [
    {
     "data": {
      "text/plain": [
       "25084.845531135186"
      ]
     },
     "execution_count": 16,
     "metadata": {},
     "output_type": "execute_result"
    }
   ],
   "source": [
    "alphas[np.argmin(Ridge_val_ME)]"
   ]
  },
  {
   "cell_type": "markdown",
   "metadata": {},
   "source": [
    "## Tree models"
   ]
  },
  {
   "cell_type": "code",
   "execution_count": 17,
   "metadata": {
    "scrolled": false
   },
   "outputs": [],
   "source": [
    "tree_ME_train = None\n",
    "tree_ME_val = None\n",
    "err_best = None\n",
    "tree_train_ME = []\n",
    "tree_val_ME = []\n",
    "depths = list(range(3,14))\n",
    "for depth in depths:\n",
    "    regr_tree = tree.DecisionTreeRegressor(max_depth=depth)\n",
    "\n",
    "    regr_tree.fit(Atrain, ytrain)\n",
    "\n",
    "    yhat_train_tree = regr_tree.predict(Atrain)\n",
    "    yhat_val_tree = regr_tree.predict(Aval)\n",
    "\n",
    "    err_train_tree = yhat_train_tree - ytrain\n",
    "    err_val_tree = yhat_val_tree - yval\n",
    "    \n",
    "    tree_train_ME.append( np.mean(np.abs(err_train_tree)) )\n",
    "    tree_val_ME.append( np.mean(np.abs(err_val_tree)) )"
   ]
  },
  {
   "cell_type": "code",
   "execution_count": 18,
   "metadata": {},
   "outputs": [
    {
     "name": "stdout",
     "output_type": "stream",
     "text": [
      "Train ME\n",
      "[0.54784443 0.57084737 0.33142714 0.32350629 0.69966224 0.74038427\n",
      " 0.45690792 0.46227089 1.53651899 1.55016448 1.3222091  1.32380486]\n",
      "\t0.8221289996556496\n",
      "[1.71988001 1.79989149 0.87422995 0.85534194 2.03358417 2.12795163\n",
      " 1.25510713 1.28283921 4.37104291 4.38591819 3.64898692 3.61915239]\n",
      "\t2.7703950760097875\n",
      "[ 7.37202325  8.49868524  5.54524864  5.69401218  6.38772603  6.81752405\n",
      "  5.07768586  4.63716063 12.76899003 13.19911456 14.1317689  14.50306439]\n",
      "\t14.50306439418087\n",
      "Validation ME\n",
      "[0.51669206 0.55365624 0.33358747 0.32714307 0.71384661 0.75133281\n",
      " 0.44570545 0.45624745 1.63506917 1.63888999 1.45010848 1.43199448]\n",
      "\t0.8545227733536986\n",
      "[1.63162852 1.73388195 0.88046529 0.87001476 2.13735129 2.20182974\n",
      " 1.2397089  1.24535388 4.88535172 4.86340859 4.19903353 4.1650994 ]\n",
      "\t2.9602918247869225\n",
      "[ 6.72231487  7.00010859  2.95624468  3.16375004  8.03920407  7.28405353\n",
      "  3.10489277  3.14716678 14.11738094 13.21667595 10.21125018  9.57375016]\n",
      "\t14.117380943712787\n"
     ]
    }
   ],
   "source": [
    "regr_tree = tree.DecisionTreeRegressor(max_depth=depths[np.argmin(tree_val_ME)])\n",
    "\n",
    "regr_tree.fit(Atrain, ytrain)\n",
    "\n",
    "yhat_train_tree = regr_tree.predict(Atrain)\n",
    "yhat_val_tree = regr_tree.predict(Aval)\n",
    "\n",
    "err_train_tree = yhat_train_tree - ytrain\n",
    "err_val_tree = yhat_val_tree - yval\n",
    "\n",
    "tree_train = report_me(err_train_tree, train=True)\n",
    "tree_val = report_me(err_val_tree, train=False)"
   ]
  },
  {
   "cell_type": "code",
   "execution_count": 19,
   "metadata": {},
   "outputs": [
    {
     "data": {
      "image/png": "[encoded data removed]",
      "text/plain": [
       "<Figure size 576x288 with 2 Axes>"
      ]
     },
     "metadata": {
      "needs_background": "light"
     },
     "output_type": "display_data"
    }
   ],
   "source": [
    "fig, axes = plt.subplots(1,2,figsize=(8,4))\n",
    "axes[0].scatter(depths, tree_train_ME)\n",
    "axes[0].scatter(depths[np.argmin(tree_val_ME)], tree_train_ME[np.argmin(tree_val_ME)], c='r')\n",
    "axes[0].set_title('Train ME')\n",
    "axes[1].scatter(depths, tree_val_ME)\n",
    "axes[1].scatter(depths[np.argmin(tree_val_ME)], tree_val_ME[np.argmin(tree_val_ME)], c='r')\n",
    "axes[1].set_title('Validation ME')\n",
    "for ax in axes:\n",
    "    ax.set_xlabel('Max depth')\n",
    "    ax.set_ylabel('sqrt MSE')\n",
    "fig.tight_layout()\n",
    "fig.savefig('plots/Regression tree depth.pdf', format='pdf')"
   ]
  },
  {
   "cell_type": "markdown",
   "metadata": {},
   "source": [
    "## Ensemble"
   ]
  },
  {
   "cell_type": "code",
   "execution_count": 20,
   "metadata": {},
   "outputs": [],
   "source": [
    "res_train10  = pd.read_pickle('results/random_forest/Random_forest_train_results_10.pkl') # recalculated\n",
    "res_train50  = pd.read_pickle('results/random_forest/Random_forest_train_results_50.pkl'\n",
    "                             )[2:].reset_index().drop(columns='index')\n",
    "res_train100 = pd.read_pickle('results/random_forest/Random_forest_train_results_100.pkl'\n",
    "                             )[2:].reset_index().drop(columns='index')\n",
    "res_train500 = pd.read_pickle('results/random_forest/Random_forest_train_results_500.pkl'\n",
    "                             )[2:].reset_index().drop(columns='index')\n",
    "\n",
    "large_train10  = pd.read_pickle('results/random_forest/Random_forest_train_results_large_10.pkl')\n",
    "large_train50  = pd.read_pickle('results/random_forest/Random_forest_train_results_large_50.pkl')\n",
    "large_train100 = pd.read_pickle('results/random_forest/Random_forest_train_results_large_100.pkl')\n",
    "large_train500 = pd.read_pickle('results/random_forest/Random_forest_train_results_large_500.pkl')\n",
    "res_train10['# trees 10000'] = large_train10\n",
    "res_train50['# trees 10000'] = large_train50\n",
    "res_train100['# trees 10000'] = large_train100\n",
    "res_train500['# trees 10000'] = large_train500\n",
    "\n",
    "res_val10  = pd.read_pickle('results/random_forest/Random_forest_val_results_10.pkl') # recalculated\n",
    "res_val50  = pd.read_pickle('results/random_forest/Random_forest_val_results_50.pkl'\n",
    "                           )[2:].reset_index().drop(columns='index')\n",
    "res_val100 = pd.read_pickle('results/random_forest/Random_forest_val_results_100.pkl'\n",
    "                           )[2:].reset_index().drop(columns='index')\n",
    "res_val500 = pd.read_pickle('results/random_forest/Random_forest_val_results_500.pkl'\n",
    "                           )[2:].reset_index().drop(columns='index')\n",
    "large_val10  = pd.read_pickle('results/random_forest/Random_forest_val_results_large_10.pkl')\n",
    "large_val50  = pd.read_pickle('results/random_forest/Random_forest_val_results_large_50.pkl')\n",
    "large_val100 = pd.read_pickle('results/random_forest/Random_forest_val_results_large_100.pkl')\n",
    "large_val500 = pd.read_pickle('results/random_forest/Random_forest_val_results_large_500.pkl')\n",
    "res_val10['# trees 10000'] = large_val10\n",
    "res_val50['# trees 10000'] = large_val50\n",
    "res_val100['# trees 10000'] = large_val100\n",
    "res_val500['# trees 10000'] = large_val500"
   ]
  },
  {
   "cell_type": "code",
   "execution_count": 21,
   "metadata": {
    "scrolled": false
   },
   "outputs": [
    {
     "data": {
      "text/html": [
       "<div>\n",
       "<style scoped>\n",
       "    .dataframe tbody tr th:only-of-type {\n",
       "        vertical-align: middle;\n",
       "    }\n",
       "\n",
       "    .dataframe tbody tr th {\n",
       "        vertical-align: top;\n",
       "    }\n",
       "\n",
       "    .dataframe thead th {\n",
       "        text-align: right;\n",
       "    }\n",
       "</style>\n",
       "<table border=\"1\" class=\"dataframe\">\n",
       "  <thead>\n",
       "    <tr style=\"text-align: right;\">\n",
       "      <th></th>\n",
       "      <th>Factor 10</th>\n",
       "      <th>Factor 50</th>\n",
       "      <th>Factor 100</th>\n",
       "      <th>Factor 500</th>\n",
       "    </tr>\n",
       "  </thead>\n",
       "  <tbody>\n",
       "    <tr>\n",
       "      <th># trees 100</th>\n",
       "      <td>0.693172</td>\n",
       "      <td>0.426738</td>\n",
       "      <td>0.249653</td>\n",
       "      <td>0.250197</td>\n",
       "    </tr>\n",
       "    <tr>\n",
       "      <th># trees 500</th>\n",
       "      <td>0.782116</td>\n",
       "      <td>0.687936</td>\n",
       "      <td>0.600907</td>\n",
       "      <td>0.245626</td>\n",
       "    </tr>\n",
       "    <tr>\n",
       "      <th># trees 1000</th>\n",
       "      <td>0.799996</td>\n",
       "      <td>0.742552</td>\n",
       "      <td>0.687311</td>\n",
       "      <td>0.421395</td>\n",
       "    </tr>\n",
       "    <tr>\n",
       "      <th># trees 5000</th>\n",
       "      <td>0.828380</td>\n",
       "      <td>0.799437</td>\n",
       "      <td>0.781320</td>\n",
       "      <td>0.686816</td>\n",
       "    </tr>\n",
       "    <tr>\n",
       "      <th># trees 10000</th>\n",
       "      <td>0.834364</td>\n",
       "      <td>0.815026</td>\n",
       "      <td>0.799212</td>\n",
       "      <td>0.742146</td>\n",
       "    </tr>\n",
       "  </tbody>\n",
       "</table>\n",
       "</div>"
      ],
      "text/plain": [
       "               Factor 10  Factor 50  Factor 100  Factor 500\n",
       "# trees 100     0.693172   0.426738    0.249653    0.250197\n",
       "# trees 500     0.782116   0.687936    0.600907    0.245626\n",
       "# trees 1000    0.799996   0.742552    0.687311    0.421395\n",
       "# trees 5000    0.828380   0.799437    0.781320    0.686816\n",
       "# trees 10000   0.834364   0.815026    0.799212    0.742146"
      ]
     },
     "metadata": {},
     "output_type": "display_data"
    },
    {
     "data": {
      "text/plain": [
       "array([[0.84016626, 0.86919973, 0.88695857, 0.88664737],\n",
       "       [0.82943215, 0.8366146 , 0.84616219, 0.88255527],\n",
       "       [0.83125973, 0.83120818, 0.83590773, 0.8649157 ],\n",
       "       [0.84638574, 0.83112512, 0.82881139, 0.83524201],\n",
       "       [0.85139282, 0.83753522, 0.83050658, 0.82996514]])"
      ]
     },
     "metadata": {},
     "output_type": "display_data"
    }
   ],
   "source": [
    "\n",
    "res_train_mean = pd.DataFrame({\n",
    "    \"Factor 10\" : res_train10.mean(),\n",
    "    \"Factor 50\" : res_train50.mean(),\n",
    "    \"Factor 100\" : res_train100.mean(),\n",
    "    \"Factor 500\" : res_train500.mean(),\n",
    "})\n",
    "display(res_train_mean)\n",
    "res_val_mean = pd.DataFrame({\n",
    "    \"Factor 10\" : res_val10.mean(),\n",
    "    \"Factor 50\" : res_val50.mean(),\n",
    "    \"Factor 100\" : res_val100.mean(),\n",
    "    \"Factor 500\" : res_val500.mean(),\n",
    "\n",
    "})\n",
    "display(res_val_mean.values)"
   ]
  },
  {
   "cell_type": "code",
   "execution_count": 22,
   "metadata": {},
   "outputs": [
    {
     "data": {
      "text/plain": [
       "array([[0.6932, 0.4267, 0.2497, 0.2502],\n",
       "       [0.7821, 0.6879, 0.6009, 0.2456],\n",
       "       [0.8   , 0.7426, 0.6873, 0.4214],\n",
       "       [0.8284, 0.7994, 0.7813, 0.6868],\n",
       "       [0.8344, 0.815 , 0.7992, 0.7421]])"
      ]
     },
     "execution_count": 22,
     "metadata": {},
     "output_type": "execute_result"
    }
   ],
   "source": [
    "res_train_mean.values.round(4)"
   ]
  },
  {
   "cell_type": "code",
   "execution_count": 23,
   "metadata": {},
   "outputs": [
    {
     "data": {
      "text/plain": [
       "array([[0.8402, 0.8692, 0.887 , 0.8866],\n",
       "       [0.8294, 0.8366, 0.8462, 0.8826],\n",
       "       [0.8313, 0.8312, 0.8359, 0.8649],\n",
       "       [0.8464, 0.8311, 0.8288, 0.8352],\n",
       "       [0.8514, 0.8375, 0.8305, 0.83  ]])"
      ]
     },
     "execution_count": 23,
     "metadata": {},
     "output_type": "execute_result"
    }
   ],
   "source": [
    "res_val_mean.values.round(4)"
   ]
  },
  {
   "cell_type": "code",
   "execution_count": 24,
   "metadata": {},
   "outputs": [],
   "source": [
    "rf_errors_train = []\n",
    "rf_errors_val = []\n",
    "for k in range(ytrain.shape[1]):\n",
    "    rf_errors_train.append(np.load(f'results/random_forest/rf_best_train_{k}.npy'))\n",
    "    rf_errors_val.append(np.load(f'results/random_forest/rf_best_val_{k}.npy'))"
   ]
  },
  {
   "cell_type": "code",
   "execution_count": 25,
   "metadata": {},
   "outputs": [
    {
     "name": "stdout",
     "output_type": "stream",
     "text": [
      "Train ME\n",
      "[0.48240281 0.50204698 0.32400515 0.31608135 0.67025936 0.70881232\n",
      " 0.44860859 0.45418161 1.5173205  1.53213199 1.20763397 1.20912478]\n",
      "\t0.7810507841622779\n",
      "[1.46865091 1.53636692 0.85348873 0.83577268 1.9497005  2.03971993\n",
      " 1.23765068 1.26701328 4.33207322 4.34785978 3.36371238 3.35720791]\n",
      "\t2.6390240620897147\n",
      "[ 6.77016178  7.87672959  5.38048615  5.58467606  6.19355819  6.63961191\n",
      "  4.94334615  4.59537392 13.18443189 13.72922181 13.98996037 14.21182159]\n",
      "\t14.211821587063744\n",
      "Validation ME\n",
      "[0.4611583  0.49416746 0.33202521 0.32543791 0.69581327 0.73052937\n",
      " 0.44252486 0.45207474 1.61125975 1.61964396 1.39657066 1.37807835]\n",
      "\t0.8282736541682659\n",
      "[1.39131611 1.49780552 0.87752012 0.8628275  2.06540405 2.11916407\n",
      " 1.22959051 1.23783965 4.82227112 4.79780037 4.07277838 4.0576428 ]\n",
      "\t2.862296192550566\n",
      "[ 5.96504606  6.0107519   2.97363206  3.04617803  8.04370823  7.20611977\n",
      "  3.04274996  3.08676594 14.92459245 13.89271408  9.24021011  9.29129785]\n",
      "\t14.924592453479022\n"
     ]
    }
   ],
   "source": [
    "rf_err_train = np.vstack(rf_errors_train).T\n",
    "rf_err_val = np.vstack(rf_errors_val).T\n",
    "\n",
    "rf_train=report_me(rf_err_train, train=True)\n",
    "rf_val=report_me(rf_err_val, train=False)"
   ]
  },
  {
   "cell_type": "markdown",
   "metadata": {},
   "source": [
    "## Adaboost"
   ]
  },
  {
   "cell_type": "code",
   "execution_count": 26,
   "metadata": {
    "scrolled": true
   },
   "outputs": [
    {
     "name": "stdout",
     "output_type": "stream",
     "text": [
      "adaboost 0\n",
      "Train ME\n",
      "\t 0.4684892439412404\n",
      "Validation ME\n",
      "\t 0.4656839687324243\n",
      "160.59591794013977\n",
      "adaboost 1\n",
      "Train ME\n",
      "\t 0.4861329451942629\n",
      "Validation ME\n",
      "\t 0.49730470826692424\n",
      "329.72894501686096\n",
      "adaboost 2\n",
      "Train ME\n",
      "\t 0.32995413413491664\n",
      "Validation ME\n",
      "\t 0.3326967513414097\n",
      "490.04657316207886\n",
      "adaboost 3\n",
      "Train ME\n",
      "\t 0.32267903730133296\n",
      "Validation ME\n",
      "\t 0.3267026191561575\n",
      "649.7186584472656\n",
      "adaboost 4\n",
      "Train ME\n",
      "\t 0.6786627052596946\n",
      "Validation ME\n",
      "\t 0.7023996921721186\n",
      "808.130530834198\n",
      "adaboost 5\n",
      "Train ME\n",
      "\t 0.7191806436866978\n",
      "Validation ME\n",
      "\t 0.7372358753477022\n",
      "967.1773092746735\n",
      "adaboost 6\n",
      "Train ME\n",
      "\t 0.4570684392441206\n",
      "Validation ME\n",
      "\t 0.44316687615990896\n",
      "1126.0096819400787\n",
      "adaboost 7\n",
      "Train ME\n",
      "\t 0.461559007399908\n",
      "Validation ME\n",
      "\t 0.45336120576481903\n",
      "1287.2245016098022\n",
      "adaboost 8\n",
      "Train ME\n",
      "\t 1.5094592069948352\n",
      "Validation ME\n",
      "\t 1.6199682901915355\n",
      "1447.3746967315674\n",
      "adaboost 9\n",
      "Train ME\n",
      "\t 1.521453775956839\n",
      "Validation ME\n",
      "\t 1.6340345617693297\n",
      "1610.0332634449005\n",
      "adaboost 10\n",
      "Train ME\n",
      "\t 1.135037356558182\n",
      "Validation ME\n",
      "\t 1.449156122683283\n",
      "1771.0752937793732\n",
      "adaboost 11\n",
      "Train ME\n",
      "\t 1.140326398891394\n",
      "Validation ME\n",
      "\t 1.4309667386766514\n",
      "1931.481737613678\n"
     ]
    }
   ],
   "source": [
    "adaboosts = [None] * ytrain.shape[1]\n",
    "t = time.time()\n",
    "with parallel_backend('loky', n_jobs=-3):\n",
    "    for k in range(ytrain.shape[1]):\n",
    "        adaboost = ensemble.AdaBoostRegressor(\n",
    "            base_estimator=tree.DecisionTreeRegressor(max_depth=10),\n",
    "            learning_rate=0.1, \n",
    "            loss='square')\n",
    "        adaboost.fit(Atrain, ytrain[:,k])\n",
    "\n",
    "        yhat_train_adaboost = adaboost.predict(Atrain)\n",
    "        yhat_val_adaboost = adaboost.predict(Aval)\n",
    "\n",
    "        err_train_adaboost = yhat_train_adaboost - ytrain[:,k]\n",
    "        err_val_adaboost = yhat_val_adaboost - yval[:,k]\n",
    "\n",
    "        print(f'adaboost {k}')\n",
    "        print('Train ME')\n",
    "        print('\\t',np.mean(np.abs(err_train_adaboost)))\n",
    "        print('Validation ME')\n",
    "        print('\\t',np.mean(np.abs(err_val_adaboost)))\n",
    "        adaboosts[k] = adaboost\n",
    "        print(time.time() - t)"
   ]
  },
  {
   "cell_type": "code",
   "execution_count": 28,
   "metadata": {},
   "outputs": [],
   "source": [
    "t = time.time()\n",
    "with parallel_backend('loky', n_jobs=-3):\n",
    "    # k = 0\n",
    "    for lr in [0.01, 0.1, 1]:\n",
    "        for depth in [5, 8, 10]:\n",
    "            break\n",
    "            adaboost = ensemble.AdaBoostRegressor(\n",
    "                base_estimator=tree.DecisionTreeRegressor(max_depth=depth),\n",
    "                learning_rate=lr, \n",
    "                loss='square')\n",
    "            adaboost.fit(Atrain, ytrain[:,k])\n",
    "\n",
    "            yhat_train_adaboost = adaboost.predict(Atrain)\n",
    "            yhat_val_adaboost = adaboost.predict(Aval)\n",
    "\n",
    "            err_train_adaboost = yhat_train_adaboost - ytrain[:,k]\n",
    "            err_val_adaboost = yhat_val_adaboost - yval[:,k]\n",
    "\n",
    "            print(f'adaboost {lr} {depth}')\n",
    "            print('Train ME')\n",
    "            print('\\t',np.mean(np.abs(err_train_adaboost)))\n",
    "            print('Validation ME')\n",
    "            print('\\t',np.mean(np.abs(err_val_adaboost)))\n",
    "            print(time.time() - t)"
   ]
  },
  {
   "cell_type": "code",
   "execution_count": 29,
   "metadata": {},
   "outputs": [
    {
     "name": "stdout",
     "output_type": "stream",
     "text": [
      "Train ME\n",
      "[0.46848924 0.48613295 0.32995413 0.32267904 0.67866271 0.71918064\n",
      " 0.45706844 0.46155901 1.50945921 1.52145378 1.13503736 1.1403264 ]\n",
      "\t0.7691669078802853\n",
      "[1.38463424 1.44566829 0.87046033 0.85840983 1.95576668 2.05370809\n",
      " 1.26221394 1.28267246 4.27057539 4.28563538 3.18360143 3.18244913]\n",
      "\t2.5864252680760877\n",
      "[4.2054914  4.65228486 3.21219476 3.64782406 5.08258233 5.6052328\n",
      " 3.95737315 3.85552512 9.67269579 9.49776368 7.79510934 8.34039262]\n",
      "\t9.672695791792137\n",
      "Validation ME\n",
      "[0.46568397 0.49730471 0.33269675 0.32670262 0.70239969 0.73723588\n",
      " 0.44316688 0.45336121 1.61996829 1.63403456 1.44915612 1.43096674]\n",
      "\t0.8410564508551884\n",
      "[1.3984366  1.49310295 0.88018074 0.86943523 2.08523375 2.1396139\n",
      " 1.23322194 1.24244514 4.82403423 4.87350484 4.16758801 4.16497562]\n",
      "\t2.9273547630662344\n",
      "[ 5.85665304  6.93000017  2.93819346  3.00286233  7.98150315  7.24673081\n",
      "  3.04608788  3.12261991 14.859954   14.00072924  9.20004305  9.22489564]\n",
      "\t14.859954002428982\n"
     ]
    }
   ],
   "source": [
    "adaboost_val_ME = np.zeros(len(adaboosts))\n",
    "adaboost_errors_train = []\n",
    "adaboost_errors_val = []\n",
    "for k,a in enumerate(adaboosts):\n",
    "    err_train = a.predict(Atrain) - ytrain[:,k]\n",
    "    err_val = a.predict(Aval) - yval[:,k]\n",
    "    adaboost_errors_train.append(err_train)\n",
    "    adaboost_errors_val.append(err_val)\n",
    "    # adaboost_val_ME[k] = np.mean(np.abs(err_val))\n",
    "\n",
    "adaboost_err_train = np.vstack(adaboost_errors_train).T\n",
    "adaboost_err_val = np.vstack(adaboost_errors_val).T\n",
    "\n",
    "adaboost_train=report_me(adaboost_err_train, train=True)\n",
    "adaboost_val=report_me(adaboost_err_val, train=False)\n",
    "adaboost_val_ME=adaboost_val[0]"
   ]
  },
  {
   "cell_type": "markdown",
   "metadata": {},
   "source": [
    "## Feature importance"
   ]
  },
  {
   "cell_type": "code",
   "execution_count": 30,
   "metadata": {},
   "outputs": [
    {
     "name": "stdout",
     "output_type": "stream",
     "text": [
      "[0.21534058 0.01016623 0.01315478 0.008737   0.03001929 0.00785954\n",
      " 0.01672209 0.00957237 0.03480484 0.01098353 0.00411701 0.00695721\n",
      " 0.01356757 0.02335746 0.01332688 0.00912252 0.0157997  0.00170042\n",
      " 0.00809706 0.00703145 0.01602394 0.00198144 0.00891431 0.00912269\n",
      " 0.01499388 0.0056883  0.00570813 0.00615478 0.01203534 0.0069604\n",
      " 0.00620249 0.00587468 0.01100976 0.00887699 0.02801148 0.00866861\n",
      " 0.0188045  0.20558721]\n"
     ]
    }
   ],
   "source": [
    "print(np.array([a.feature_importances_*adaboost_val_ME[k] for k,a in enumerate(adaboosts)]).mean(0))\n"
   ]
  },
  {
   "cell_type": "markdown",
   "metadata": {},
   "source": [
    "## Gradient boosted trees"
   ]
  },
  {
   "cell_type": "code",
   "execution_count": 31,
   "metadata": {},
   "outputs": [
    {
     "name": "stdout",
     "output_type": "stream",
     "text": [
      "Attribute: 0\n",
      "Attribute: 1\n",
      "Attribute: 2\n",
      "Attribute: 3\n",
      "Attribute: 4\n",
      "Attribute: 5\n",
      "Attribute: 6\n",
      "Attribute: 7\n",
      "Attribute: 8\n",
      "Attribute: 9\n",
      "Attribute: 10\n",
      "Attribute: 11\n"
     ]
    }
   ],
   "source": [
    "# adaboost_ME_train, adaboost_ME_val = [], []\n",
    "# random_forest_ME_train, random_forest_ME_val = [], []\n",
    "gradboost_ME_train, gradboost_ME_val = [], []\n",
    "gradboost_errors_train = []\n",
    "gradboost_errors_val = []\n",
    "\n",
    "for k in range(ytrain.shape[1]):\n",
    "    print('Attribute:', k)\n",
    "\n",
    "    gradboost = ensemble.HistGradientBoostingRegressor(loss='squared_error')\n",
    "\n",
    "    gradboost.fit(Atrain, ytrain[:, k])\n",
    "\n",
    "    yhat_train_gradboost = gradboost.predict(Atrain)\n",
    "    yhat_val_gradboost = gradboost.predict(Aval)\n",
    "\n",
    "    err_train_gradboost = yhat_train_gradboost - ytrain[:,k]\n",
    "    err_val_gradboost = yhat_val_gradboost - yval[:,k]\n",
    "    gradboost_errors_train.append(err_train_gradboost)\n",
    "    gradboost_errors_val.append(err_val_gradboost)"
   ]
  },
  {
   "cell_type": "code",
   "execution_count": 32,
   "metadata": {},
   "outputs": [
    {
     "name": "stdout",
     "output_type": "stream",
     "text": [
      "Train ME\n",
      "[0.46401624 0.48285489 0.32579121 0.31423619 0.66102268 0.69898704\n",
      " 0.44462701 0.44972473 1.43673534 1.45715246 1.12103764 1.12122905]\n",
      "\t0.7481178744065852\n",
      "[1.37084543 1.43531132 0.85488638 0.82516328 1.89968664 1.98846968\n",
      " 1.21405482 1.23974265 4.04652735 4.07599943 3.07479151 3.06707443]\n",
      "\t2.4877170997681386\n",
      "[ 6.84330701  5.6487621   4.97499255  4.27893762  5.86710899  6.41962322\n",
      "  4.1889109   4.44483271 12.83103294 12.88345256 14.1723344  14.13226582]\n",
      "\t14.172334395370285\n",
      "Validation ME\n",
      "[0.45209513 0.4838032  0.33218071 0.32533373 0.69581914 0.72916769\n",
      " 0.44353749 0.45257586 1.63443124 1.64260684 1.42929153 1.44342924]\n",
      "\t0.8386893155936707\n",
      "[1.34121717 1.43536091 0.87759304 0.86366318 2.05710096 2.11050383\n",
      " 1.22477572 1.2363268  4.89002055 4.85773006 4.11212633 4.28383189]\n",
      "\t2.933910994748063\n",
      "[ 5.86038992  6.46194827  3.0384506   3.07632547  8.04822219  7.42298225\n",
      "  3.05288524  3.148197   15.84851361 14.6680999  10.3292835  10.39074748]\n",
      "\t15.84851361373747\n"
     ]
    }
   ],
   "source": [
    "gradboost_err_train = np.vstack(gradboost_errors_train).T\n",
    "gradboost_err_val = np.vstack(gradboost_errors_val).T\n",
    "\n",
    "gradboost_train=report_me(gradboost_err_train, train=True)\n",
    "gradboost_val=report_me(gradboost_err_val, train=False)"
   ]
  },
  {
   "cell_type": "markdown",
   "metadata": {},
   "source": [
    "## Summaries results"
   ]
  },
  {
   "cell_type": "code",
   "execution_count": 73,
   "metadata": {},
   "outputs": [],
   "source": [
    "train_stats = {\n",
    "    'Constant' : constant_train,\n",
    "    'Linear' : linear_train,\n",
    "    'Ridge' : ridge_train,\n",
    "    'Tree' : tree_train,\n",
    "    'RF' : rf_train,\n",
    "    'Adaboost' : adaboost_train,\n",
    "    'Gradboost' : gradboost_train,\n",
    "}\n",
    "val_stats = {\n",
    "    'Constant' : constant_val,\n",
    "    'Linear' : linear_val,\n",
    "    'Ridge' : ridge_val,\n",
    "    'Tree' : tree_val,\n",
    "    'RF' : rf_val,\n",
    "    'Adaboost' : adaboost_val,\n",
    "    'Gradboost' : gradboost_val,\n",
    "}"
   ]
  },
  {
   "cell_type": "code",
   "execution_count": 64,
   "metadata": {},
   "outputs": [],
   "source": [
    "df_train_simple_current_mean = pd.DataFrame({\n",
    "    'Constant' : constant_train[0],\n",
    "    'Linear' : linear_train[0],\n",
    "    'Ridge' : ridge_train[0],\n",
    "    'Tree' : tree_train[0],\n",
    "    'RF' : rf_train[0],\n",
    "    'Adaboost' : adaboost_train[0],\n",
    "    'Gradboost' : gradboost_train[0],\n",
    "}, index=[\n",
    "    'LivLongSxD1 [mm]', 'LivLongDxD1 [mm]', 'AllinSxD1 [mm]', 'AllinDxD1 [mm]', \n",
    "    'LivLongSxD2 [mm]', 'LivLongDxD2 [mm]', 'AllinSxD2 [mm]', 'AllinDxD2 [mm]', \n",
    "    'LivLongSxD3 [mm]', 'LivLongDxD3 [mm]', 'AllinSxD3 [mm]', 'AllinDxD3 [mm]'])\n",
    "df_train_simple_current_q95 = pd.DataFrame({\n",
    "    'Constant' : constant_train[1],\n",
    "    'Linear' : linear_train[1],\n",
    "    'Ridge' : ridge_train[1],\n",
    "    'Tree' : tree_train[1],\n",
    "    'RF' : rf_train[1],\n",
    "    'Adaboost' : adaboost_train[1],\n",
    "    'Gradboost' : gradboost_train[1],\n",
    "}, index=[\n",
    "    'LivLongSxD1 [mm]', 'LivLongDxD1 [mm]', 'AllinSxD1 [mm]', 'AllinDxD1 [mm]', \n",
    "    'LivLongSxD2 [mm]', 'LivLongDxD2 [mm]', 'AllinSxD2 [mm]', 'AllinDxD2 [mm]', \n",
    "    'LivLongSxD3 [mm]', 'LivLongDxD3 [mm]', 'AllinSxD3 [mm]', 'AllinDxD3 [mm]'])\n",
    "df_train_simple_current_max = pd.DataFrame({\n",
    "    'Constant' : constant_train[2],\n",
    "    'Linear' : linear_train[2],\n",
    "    'Ridge' : ridge_train[2],\n",
    "    'Tree' : tree_train[2],\n",
    "    'RF' : rf_train[2],\n",
    "    'Adaboost' : adaboost_train[2],\n",
    "    'Gradboost' : gradboost_train[2],\n",
    "}, index=['LivLongSxD1 [mm]', 'LivLongDxD1 [mm]', 'AllinSxD1 [mm]', 'AllinDxD1 [mm]', \n",
    "          'LivLongSxD2 [mm]', 'LivLongDxD2 [mm]', 'AllinSxD2 [mm]', 'AllinDxD2 [mm]', \n",
    "          'LivLongSxD3 [mm]', 'LivLongDxD3 [mm]', 'AllinSxD3 [mm]', 'AllinDxD3 [mm]'])\n",
    "\n",
    "df_val_simple_current_mean = pd.DataFrame({\n",
    "    'Constant' : constant_val[0],\n",
    "    'Linear' : linear_val[0],\n",
    "    'Ridge' : ridge_val[0],\n",
    "    'Tree' : tree_val[0],\n",
    "    'RF' : rf_val[0],\n",
    "    'Adaboost' : adaboost_val[0],\n",
    "    'Gradboost' : gradboost_val[0],\n",
    "}, index=[\n",
    "    'LivLongSxD1 [mm]', 'LivLongDxD1 [mm]', 'AllinSxD1 [mm]', 'AllinDxD1 [mm]', \n",
    "    'LivLongSxD2 [mm]', 'LivLongDxD2 [mm]', 'AllinSxD2 [mm]', 'AllinDxD2 [mm]', \n",
    "    'LivLongSxD3 [mm]', 'LivLongDxD3 [mm]', 'AllinSxD3 [mm]', 'AllinDxD3 [mm]'])\n",
    "df_val_simple_current_q95 = pd.DataFrame({\n",
    "    'Constant' : constant_val[1],\n",
    "    'Linear' : linear_val[1],\n",
    "    'Ridge' : ridge_val[1],\n",
    "    'Tree' : tree_val[1],\n",
    "    'RF' : rf_val[1],\n",
    "    'Adaboost' : adaboost_val[1],\n",
    "    'Gradboost' : gradboost_val[1],\n",
    "}, index=[\n",
    "    'LivLongSxD1 [mm]', 'LivLongDxD1 [mm]', 'AllinSxD1 [mm]', 'AllinDxD1 [mm]', \n",
    "    'LivLongSxD2 [mm]', 'LivLongDxD2 [mm]', 'AllinSxD2 [mm]', 'AllinDxD2 [mm]', \n",
    "    'LivLongSxD3 [mm]', 'LivLongDxD3 [mm]', 'AllinSxD3 [mm]', 'AllinDxD3 [mm]'])\n",
    "df_val_simple_current_max = pd.DataFrame({\n",
    "    'Constant' : constant_val[2],\n",
    "    'Linear' : linear_val[2],\n",
    "    'Ridge' : ridge_val[2],\n",
    "    'Tree' : tree_val[2],\n",
    "    'RF' : rf_val[2],\n",
    "    'Adaboost' : adaboost_val[2],\n",
    "    'Gradboost' : gradboost_val[2],\n",
    "}, index=['LivLongSxD1 [mm]', 'LivLongDxD1 [mm]', 'AllinSxD1 [mm]', 'AllinDxD1 [mm]', \n",
    "          'LivLongSxD2 [mm]', 'LivLongDxD2 [mm]', 'AllinSxD2 [mm]', 'AllinDxD2 [mm]', \n",
    "          'LivLongSxD3 [mm]', 'LivLongDxD3 [mm]', 'AllinSxD3 [mm]', 'AllinDxD3 [mm]'])\n",
    "\n",
    "#display(df_val_simple_current_mean[[\"Constant\", \"Ridge\", \"Tree\", \"RF\", \"Adaboost\", \"Gradboost\"]])\n",
    "#print(constant_val[3], rf_val[3], gradboost_val[3])\n",
    "\n",
    "#display(df_val_simple_current_q95[[\"Constant\", \"Ridge\", \"Tree\", \"RF\", \"Adaboost\", \"Gradboost\"]])\n",
    "#print(constant_val[4], rf_val[4], gradboost_val[4])\n",
    "\n",
    "#display(df_val_simple_current_max[[\"Constant\", \"Ridge\", \"Tree\", \"RF\", \"Adaboost\", \"Gradboost\"]])\n",
    "#print(constant_val[5], rf_val[5], gradboost_val[5])\n",
    "\n",
    "#display(pd.DataFrame(np.hstack((\n",
    "#    df_val_simple_current_mean[[\"Constant\", \"RF\", \"Gradboost\"]].values,\n",
    "#    df_val_simple_current_q95[[\"Constant\", \"RF\", \"Gradboost\"]].values,\n",
    "#    df_val_simple_current_max[[\"Constant\", \"RF\", \"Gradboost\"]].values,\n",
    "#))))\n",
    "df_train_simple_current_mean.to_csv('results/simple_models/df_train_simple_current_mean.csv')\n",
    "df_train_simple_current_q95.to_csv('results/simple_models/df_train_simple_current_q95.csv')\n",
    "df_train_simple_current_max.to_csv('results/simple_models/df_train_simple_current_max.csv')\n",
    "df_val_simple_current_mean.to_csv('results/simple_models/df_val_simple_current_mean.csv')\n",
    "df_val_simple_current_q95.to_csv('results/simple_models/df_val_simple_current_q95.csv')\n",
    "df_val_simple_current_max.to_csv('results/simple_models/df_val_simple_current_max.csv')"
   ]
  },
  {
   "cell_type": "code",
   "execution_count": 78,
   "metadata": {},
   "outputs": [],
   "source": [
    "def print_latex(data, statistic, models=True, train=True, cols=[\"Constant\", \"Ridge\", \"Tree\", \"RF\", \"Adaboost\", \"Gradboost\"]):\n",
    "    vals = data.loc[:,cols].values\n",
    "    n_cols = len(cols)\n",
    "    n_rows = len(data)\n",
    "    if models:\n",
    "        print(\"& \", \" & \".join(cols), \"\\\\\\\\\\\\hline\")\n",
    "    print(\"& \\\\multicolumn{\", n_cols , \"}{c}{\", statistic, \"} \\\\\\\\\\\\hline\")\n",
    "    for i,row in enumerate(data.index):\n",
    "        print(row, end = \" & \")\n",
    "        for j in range(n_cols):\n",
    "            if j < n_cols - 1:\n",
    "                print(\"{:5.4f}\".format(vals[i,j]), end=\" & \")\n",
    "            else:\n",
    "                print(\"{:5.4f}\".format(vals[i,j]), end=\" \\\\\\\\\")\n",
    "        if i < n_rows - 1:\n",
    "            print(\"\")\n",
    "        else:\n",
    "            print(\"\\\\hline\")\n",
    "    agg_idx = {\"Mean\" : 3, \"95 % quantile\" : 4, \"Maximum\" : 5}[statistic] \n",
    "    if train:\n",
    "        aggregate = train_stats\n",
    "    else:\n",
    "        aggregate = val_stats\n",
    "    print(\"Aggregate & \", end=\"\")\n",
    "    for j,col in enumerate(cols):\n",
    "        if j < n_cols - 1:\n",
    "            print(\"{:5.4f}\".format(aggregate[col][agg_idx]), end=\" & \")\n",
    "        else:\n",
    "            print(\"{:5.4f}\".format(aggregate[col][agg_idx]), end=\" \\\\\\\\\\\\hline\\n\")\n",
    "    "
   ]
  },
  {
   "cell_type": "code",
   "execution_count": 79,
   "metadata": {},
   "outputs": [
    {
     "name": "stdout",
     "output_type": "stream",
     "text": [
      "&  Constant & Ridge & Tree & RF & Adaboost & Gradboost \\\\\\hline\n",
      "& \\multicolumn{ 6 }{c}{ Mean } \\\\\\hline\n",
      "LivLongSxD1 [mm] & 0.5651 & 0.5064 & 0.5478 & 0.4824 & 0.4685 & 0.4640 \\\\\n",
      "LivLongDxD1 [mm] & 0.5894 & 0.5289 & 0.5708 & 0.5020 & 0.4861 & 0.4829 \\\\\n",
      "AllinSxD1 [mm] & 0.3323 & 0.3313 & 0.3314 & 0.3240 & 0.3300 & 0.3258 \\\\\n",
      "AllinDxD1 [mm] & 0.3241 & 0.3231 & 0.3235 & 0.3161 & 0.3227 & 0.3142 \\\\\n",
      "LivLongSxD2 [mm] & 0.7082 & 0.7025 & 0.6997 & 0.6703 & 0.6787 & 0.6610 \\\\\n",
      "LivLongDxD2 [mm] & 0.7486 & 0.7427 & 0.7404 & 0.7088 & 0.7192 & 0.6990 \\\\\n",
      "AllinSxD2 [mm] & 0.4599 & 0.4590 & 0.4569 & 0.4486 & 0.4571 & 0.4446 \\\\\n",
      "AllinDxD2 [mm] & 0.4656 & 0.4647 & 0.4623 & 0.4542 & 0.4616 & 0.4497 \\\\\n",
      "LivLongSxD3 [mm] & 1.5619 & 1.5562 & 1.5365 & 1.5173 & 1.5095 & 1.4367 \\\\\n",
      "LivLongDxD3 [mm] & 1.5766 & 1.5702 & 1.5502 & 1.5321 & 1.5215 & 1.4572 \\\\\n",
      "AllinSxD3 [mm] & 1.4489 & 1.4477 & 1.3222 & 1.2076 & 1.1350 & 1.1210 \\\\\n",
      "AllinDxD3 [mm] & 1.4507 & 1.4497 & 1.3238 & 1.2091 & 1.1403 & 1.1212 \\\\\\hline\n",
      "Aggregate & 0.8526 & 0.8402 & 0.8221 & 0.7811 & 0.7692 & 0.7481 \\\\\\hline\n",
      "& \\multicolumn{ 6 }{c}{ 95 % quantile } \\\\\\hline\n",
      "LivLongSxD1 [mm] & 1.7897 & 1.5399 & 1.7199 & 1.4687 & 1.3846 & 1.3708 \\\\\n",
      "LivLongDxD1 [mm] & 1.8598 & 1.6164 & 1.7999 & 1.5364 & 1.4457 & 1.4353 \\\\\n",
      "AllinSxD1 [mm] & 0.8800 & 0.8735 & 0.8742 & 0.8535 & 0.8705 & 0.8549 \\\\\n",
      "AllinDxD1 [mm] & 0.8599 & 0.8549 & 0.8553 & 0.8358 & 0.8584 & 0.8252 \\\\\n",
      "LivLongSxD2 [mm] & 2.0628 & 2.0428 & 2.0336 & 1.9497 & 1.9558 & 1.8997 \\\\\n",
      "LivLongDxD2 [mm] & 2.1473 & 2.1266 & 2.1280 & 2.0397 & 2.0537 & 1.9885 \\\\\n",
      "AllinSxD2 [mm] & 1.2705 & 1.2676 & 1.2551 & 1.2377 & 1.2622 & 1.2141 \\\\\n",
      "AllinDxD2 [mm] & 1.2993 & 1.2968 & 1.2828 & 1.2670 & 1.2827 & 1.2397 \\\\\n",
      "LivLongSxD3 [mm] & 4.4613 & 4.4378 & 4.3710 & 4.3321 & 4.2706 & 4.0465 \\\\\n",
      "LivLongDxD3 [mm] & 4.4808 & 4.4588 & 4.3859 & 4.3479 & 4.2856 & 4.0760 \\\\\n",
      "AllinSxD3 [mm] & 3.9278 & 3.9236 & 3.6490 & 3.3637 & 3.1836 & 3.0748 \\\\\n",
      "AllinDxD3 [mm] & 3.9171 & 3.9197 & 3.6192 & 3.3572 & 3.1824 & 3.0671 \\\\\\hline\n",
      "Aggregate & 2.9213 & 2.8836 & 2.7704 & 2.6390 & 2.5864 & 2.4877 \\\\\\hline\n",
      "& \\multicolumn{ 6 }{c}{ Maximum } \\\\\\hline\n",
      "LivLongSxD1 [mm] & 9.2903 & 7.5413 & 7.3720 & 6.7702 & 4.2055 & 6.8433 \\\\\n",
      "LivLongDxD1 [mm] & 9.3402 & 7.8449 & 8.4987 & 7.8767 & 4.6523 & 5.6488 \\\\\n",
      "AllinSxD1 [mm] & 5.5900 & 5.5546 & 5.5452 & 5.3805 & 3.2122 & 4.9750 \\\\\n",
      "AllinDxD1 [mm] & 5.6899 & 5.7085 & 5.6940 & 5.5847 & 3.6478 & 4.2789 \\\\\n",
      "LivLongSxD2 [mm] & 6.4328 & 6.3595 & 6.3877 & 6.1936 & 5.0826 & 5.8671 \\\\\n",
      "LivLongDxD2 [mm] & 6.9527 & 6.8010 & 6.8175 & 6.6396 & 5.6052 & 6.4196 \\\\\n",
      "AllinSxD2 [mm] & 5.1005 & 5.0819 & 5.0777 & 4.9433 & 3.9574 & 4.1889 \\\\\n",
      "AllinDxD2 [mm] & 4.6607 & 4.6136 & 4.6372 & 4.5954 & 3.8555 & 4.4448 \\\\\n",
      "LivLongSxD3 [mm] & 12.9313 & 13.2984 & 12.7690 & 13.1844 & 9.6727 & 12.8310 \\\\\n",
      "LivLongDxD3 [mm] & 13.4692 & 13.7989 & 13.1991 & 13.7292 & 9.4978 & 12.8835 \\\\\n",
      "AllinSxD3 [mm] & 14.6022 & 14.5794 & 14.1318 & 13.9900 & 7.7951 & 14.1723 \\\\\n",
      "AllinDxD3 [mm] & 14.9429 & 14.9381 & 14.5031 & 14.2118 & 8.3404 & 14.1323 \\\\\\hline\n",
      "Aggregate & 14.9429 & 14.9381 & 14.5031 & 14.2118 & 9.6727 & 14.1723 \\\\\\hline\n"
     ]
    }
   ],
   "source": [
    "print_latex(df_train_simple_current_mean, \"Mean\", True)\n",
    "print_latex(df_train_simple_current_q95, \"95 % quantile\", False)\n",
    "print_latex(df_train_simple_current_max, \"Maximum\", False)"
   ]
  },
  {
   "cell_type": "code",
   "execution_count": 80,
   "metadata": {},
   "outputs": [
    {
     "name": "stdout",
     "output_type": "stream",
     "text": [
      "&  Constant & Ridge & Tree & RF & Adaboost & Gradboost \\\\\\hline\n",
      "& \\multicolumn{ 6 }{c}{ Mean } \\\\\\hline\n",
      "LivLongSxD1 [mm] & 0.5268 & 0.4758 & 0.5167 & 0.4612 & 0.4657 & 0.4521 \\\\\n",
      "LivLongDxD1 [mm] & 0.5661 & 0.5108 & 0.5537 & 0.4942 & 0.4973 & 0.4838 \\\\\n",
      "AllinSxD1 [mm] & 0.3330 & 0.3325 & 0.3336 & 0.3320 & 0.3327 & 0.3322 \\\\\n",
      "AllinDxD1 [mm] & 0.3269 & 0.3260 & 0.3271 & 0.3254 & 0.3267 & 0.3253 \\\\\n",
      "LivLongSxD2 [mm] & 0.7142 & 0.7091 & 0.7138 & 0.6958 & 0.7024 & 0.6958 \\\\\n",
      "LivLongDxD2 [mm] & 0.7526 & 0.7465 & 0.7513 & 0.7305 & 0.7372 & 0.7292 \\\\\n",
      "AllinSxD2 [mm] & 0.4433 & 0.4426 & 0.4457 & 0.4425 & 0.4432 & 0.4435 \\\\\n",
      "AllinDxD2 [mm] & 0.4534 & 0.4525 & 0.4562 & 0.4521 & 0.4534 & 0.4526 \\\\\n",
      "LivLongSxD3 [mm] & 1.6247 & 1.6170 & 1.6351 & 1.6113 & 1.6200 & 1.6344 \\\\\n",
      "LivLongDxD3 [mm] & 1.6327 & 1.6251 & 1.6389 & 1.6196 & 1.6340 & 1.6426 \\\\\n",
      "AllinSxD3 [mm] & 1.5315 & 1.5297 & 1.4501 & 1.3966 & 1.4492 & 1.4293 \\\\\n",
      "AllinDxD3 [mm] & 1.5116 & 1.5100 & 1.4320 & 1.3781 & 1.4310 & 1.4434 \\\\\\hline\n",
      "Aggregate & 0.8681 & 0.8565 & 0.8545 & 0.8283 & 0.8411 & 0.8387 \\\\\\hline\n",
      "& \\multicolumn{ 6 }{c}{ 95 % quantile } \\\\\\hline\n",
      "LivLongSxD1 [mm] & 1.6603 & 1.4443 & 1.6316 & 1.3913 & 1.3984 & 1.3412 \\\\\n",
      "LivLongDxD1 [mm] & 1.7698 & 1.5482 & 1.7339 & 1.4978 & 1.4931 & 1.4354 \\\\\n",
      "AllinSxD1 [mm] & 0.8800 & 0.8783 & 0.8805 & 0.8775 & 0.8802 & 0.8776 \\\\\n",
      "AllinDxD1 [mm] & 0.8701 & 0.8662 & 0.8700 & 0.8628 & 0.8694 & 0.8637 \\\\\n",
      "LivLongSxD2 [mm] & 2.1428 & 2.1171 & 2.1374 & 2.0654 & 2.0852 & 2.0571 \\\\\n",
      "LivLongDxD2 [mm] & 2.2173 & 2.1909 & 2.2018 & 2.1192 & 2.1396 & 2.1105 \\\\\n",
      "AllinSxD2 [mm] & 1.2305 & 1.2325 & 1.2397 & 1.2296 & 1.2332 & 1.2248 \\\\\n",
      "AllinDxD2 [mm] & 1.2407 & 1.2380 & 1.2454 & 1.2378 & 1.2424 & 1.2363 \\\\\n",
      "LivLongSxD3 [mm] & 4.8313 & 4.8076 & 4.8854 & 4.8223 & 4.8240 & 4.8900 \\\\\n",
      "LivLongDxD3 [mm] & 4.8192 & 4.8115 & 4.8634 & 4.7978 & 4.8735 & 4.8577 \\\\\n",
      "AllinSxD3 [mm] & 4.3578 & 4.3516 & 4.1990 & 4.0728 & 4.1676 & 4.1121 \\\\\n",
      "AllinDxD3 [mm] & 4.2971 & 4.3044 & 4.1651 & 4.0576 & 4.1650 & 4.2838 \\\\\\hline\n",
      "Aggregate & 3.0292 & 2.9924 & 2.9603 & 2.8623 & 2.9274 & 2.9339 \\\\\\hline\n",
      "& \\multicolumn{ 6 }{c}{ Maximum } \\\\\\hline\n",
      "LivLongSxD1 [mm] & 7.4903 & 6.1842 & 6.7223 & 5.9650 & 5.8567 & 5.8604 \\\\\n",
      "LivLongDxD1 [mm] & 7.7902 & 6.2292 & 7.0001 & 6.0108 & 6.9300 & 6.4619 \\\\\n",
      "AllinSxD1 [mm] & 2.9400 & 2.9685 & 2.9562 & 2.9736 & 2.9382 & 3.0385 \\\\\n",
      "AllinDxD1 [mm] & 3.0299 & 3.0451 & 3.1638 & 3.0462 & 3.0029 & 3.0763 \\\\\n",
      "LivLongSxD2 [mm] & 8.0328 & 7.9850 & 8.0392 & 8.0437 & 7.9815 & 8.0482 \\\\\n",
      "LivLongDxD2 [mm] & 7.2727 & 7.2022 & 7.2841 & 7.2061 & 7.2467 & 7.4230 \\\\\n",
      "AllinSxD2 [mm] & 3.0505 & 3.0371 & 3.1049 & 3.0427 & 3.0461 & 3.0529 \\\\\n",
      "AllinDxD2 [mm] & 3.0807 & 3.0617 & 3.1472 & 3.0868 & 3.1226 & 3.1482 \\\\\n",
      "LivLongSxD3 [mm] & 14.2587 & 14.3511 & 14.1174 & 14.9246 & 14.8600 & 15.8485 \\\\\n",
      "LivLongDxD3 [mm] & 13.4308 & 13.5830 & 13.2167 & 13.8927 & 14.0007 & 14.6681 \\\\\n",
      "AllinSxD3 [mm] & 9.7822 & 9.8517 & 10.2113 & 9.2402 & 9.2000 & 10.3293 \\\\\n",
      "AllinDxD3 [mm] & 9.7529 & 9.8196 & 9.5738 & 9.2913 & 9.2249 & 10.3907 \\\\\\hline\n",
      "Aggregate & 14.2587 & 14.3511 & 14.1174 & 14.9246 & 14.8600 & 15.8485 \\\\\\hline\n"
     ]
    }
   ],
   "source": [
    "print_latex(df_val_simple_current_mean, \"Mean\", True, train=False)\n",
    "print_latex(df_val_simple_current_q95, \"95 % quantile\", False, train=False)\n",
    "print_latex(df_val_simple_current_max, \"Maximum\", False, train=False)"
   ]
  },
  {
   "cell_type": "code",
   "execution_count": null,
   "metadata": {},
   "outputs": [],
   "source": [
    "model = Pipeline([('linear',sk_linear_model.LinearRegression())])\n",
    "\n",
    "Params = TypedDict(\"Params\", {\"method\": str, \"cv\": Union[int, Subsample]})\n",
    "STRATEGIES = {\n",
    "    \"cv\": Params(method=\"base\", cv=3),\n",
    "    #\"cv_plus\": Params(method=\"plus\", cv=3),\n",
    "    #\"cv_minmax\": Params(method=\"minmax\", cv=3),\n",
    "    #\"jackknife_plus_ab\": Params(method=\"plus\", cv=Subsample(n_resamplings=50)),\n",
    "    #\"jackknife_minmax_ab\": Params(method=\"minmax\", cv=Subsample(n_resamplings=50)),\n",
    "}\n",
    "y_pred, y_pis,y_true = {}, {}, {}\n",
    "for strategy, params in STRATEGIES.items():\n",
    "    break\n",
    "    print(strategy)\n",
    "    mapie = MapieRegressor(model, **params)\n",
    "    mapie.fit(Atrain, ytrain[:,0])\n",
    "    y_pred[strategy], y_pis[strategy] = mapie.predict(Aval, alpha=0.05)\n",
    "    y_true[strategy] = yval[:,0]\n"
   ]
  },
  {
   "cell_type": "code",
   "execution_count": 36,
   "metadata": {},
   "outputs": [
    {
     "ename": "NameError",
     "evalue": "name 'y_pred' is not defined",
     "output_type": "error",
     "traceback": [
      "\u001b[0;31m---------------------------------------------------------------------------\u001b[0m",
      "\u001b[0;31mNameError\u001b[0m                                 Traceback (most recent call last)",
      "Input \u001b[0;32mIn [36]\u001b[0m, in \u001b[0;36m<cell line: 2>\u001b[0;34m()\u001b[0m\n\u001b[1;32m      1\u001b[0m fig, ax \u001b[38;5;241m=\u001b[39m plt\u001b[38;5;241m.\u001b[39msubplots(\u001b[38;5;241m1\u001b[39m,\u001b[38;5;241m1\u001b[39m,figsize\u001b[38;5;241m=\u001b[39m(\u001b[38;5;241m6\u001b[39m,\u001b[38;5;241m4.5\u001b[39m))\n\u001b[0;32m----> 2\u001b[0m p1 \u001b[38;5;241m=\u001b[39m ax\u001b[38;5;241m.\u001b[39mplot(np\u001b[38;5;241m.\u001b[39marange(\u001b[38;5;241m1100\u001b[39m,\u001b[38;5;241m1300\u001b[39m),\u001b[43my_pred\u001b[49m[\u001b[38;5;124m\"\u001b[39m\u001b[38;5;124mcv\u001b[39m\u001b[38;5;124m\"\u001b[39m][\u001b[38;5;241m1100\u001b[39m:\u001b[38;5;241m1300\u001b[39m],label\u001b[38;5;241m=\u001b[39m\u001b[38;5;124m'\u001b[39m\u001b[38;5;124mPredictions\u001b[39m\u001b[38;5;124m'\u001b[39m)\n\u001b[1;32m      3\u001b[0m p2 \u001b[38;5;241m=\u001b[39m ax\u001b[38;5;241m.\u001b[39mplot(np\u001b[38;5;241m.\u001b[39marange(\u001b[38;5;241m1100\u001b[39m,\u001b[38;5;241m1300\u001b[39m),y_true[\u001b[38;5;124m\"\u001b[39m\u001b[38;5;124mcv\u001b[39m\u001b[38;5;124m\"\u001b[39m][\u001b[38;5;241m1100\u001b[39m:\u001b[38;5;241m1300\u001b[39m],label\u001b[38;5;241m=\u001b[39m\u001b[38;5;124m'\u001b[39m\u001b[38;5;124mTrue\u001b[39m\u001b[38;5;124m'\u001b[39m)\n\u001b[1;32m      4\u001b[0m \u001b[38;5;66;03m#p3 = ax.plot(np.arange(1100,1300),np.squeeze(y_pis[\"cv\"][1100:1300]),label='95 % CI',color='r')\u001b[39;00m\n",
      "\u001b[0;31mNameError\u001b[0m: name 'y_pred' is not defined"
     ]
    },
    {
     "data": {
      "image/png": "[encoded data removed]",
      "text/plain": [
       "<Figure size 432x324 with 1 Axes>"
      ]
     },
     "metadata": {
      "needs_background": "light"
     },
     "output_type": "display_data"
    }
   ],
   "source": [
    "# y_pred =\n",
    "\n",
    "fig, ax = plt.subplots(1,1,figsize=(6,4.5))\n",
    "p1 = ax.plot(np.arange(1100,1300),y_pred[\"cv\"][1100:1300],label='Predictions')\n",
    "p2 = ax.plot(np.arange(1100,1300),y_true[\"cv\"][1100:1300],label='True')\n",
    "#p3 = ax.plot(np.arange(1100,1300),np.squeeze(y_pis[\"cv\"][1100:1300]),label='95 % CI',color='r')\n",
    "custom_lines = [Line2D([0], [0], color=p1[0].get_color()),\n",
    "                Line2D([0], [0], color=p2[0].get_color()),\n",
    "                Line2D([0], [0], color=p3[0].get_color())]\n",
    "#ax.legend(custom_lines, ['Predictions', 'True', '95 % CI'])\n",
    "ax.legend()\n",
    "ax.set_xlabel('Sample')\n",
    "ax.set_ylabel('LivLongSxD1 [mm]')\n",
    "plt.savefig('plots/simple_model_linear.pdf',format='pdf')\n",
    "plt.show()"
   ]
  },
  {
   "cell_type": "code",
   "execution_count": 81,
   "metadata": {},
   "outputs": [
    {
     "name": "stdout",
     "output_type": "stream",
     "text": [
      "Attribute 0\n",
      "Time: 52.02612781524658\n",
      "Attribute 1\n",
      "Time: 46.53937244415283\n",
      "Attribute 2\n",
      "Time: 57.64827370643616\n",
      "Attribute 3\n",
      "Time: 59.16509199142456\n",
      "Attribute 4\n",
      "Time: 52.144285678863525\n",
      "Attribute 5\n",
      "Time: 51.67334723472595\n",
      "Attribute 6\n",
      "Time: 53.86596465110779\n",
      "Attribute 7\n"
     ]
    },
    {
     "name": "stderr",
     "output_type": "stream",
     "text": [
      "exception calling callback for <Future at 0x7fde967e2100 state=finished raised BrokenProcessPool>\n",
      "joblib.externals.loky.process_executor._RemoteTraceback: \n",
      "\"\"\"\n",
      "Traceback (most recent call last):\n",
      "  File \"/zhome/02/e/127482/.local/lib/python3.9/site-packages/joblib/externals/loky/process_executor.py\", line 624, in wait_result_broken_or_wakeup\n",
      "  File \"/appl/python/3.9.11/lib/python3.9/multiprocessing/connection.py\", line 255, in recv\n",
      "    buf = self._recv_bytes()\n",
      "  File \"/appl/python/3.9.11/lib/python3.9/multiprocessing/connection.py\", line 426, in _recv_bytes\n",
      "    return self._recv(size)\n",
      "  File \"/appl/python/3.9.11/lib/python3.9/multiprocessing/connection.py\", line 391, in _recv\n",
      "    buf.write(chunk)\n",
      "MemoryError\n",
      "\"\"\"\n",
      "\n",
      "The above exception was the direct cause of the following exception:\n",
      "\n",
      "Traceback (most recent call last):\n",
      "  File \"/zhome/02/e/127482/.local/lib/python3.9/site-packages/joblib/externals/loky/_base.py\", line 625, in _invoke_callbacks\n",
      "    callback(self)\n",
      "  File \"/zhome/02/e/127482/.local/lib/python3.9/site-packages/joblib/parallel.py\", line 359, in __call__\n",
      "    self.parallel.dispatch_next()\n",
      "  File \"/zhome/02/e/127482/.local/lib/python3.9/site-packages/joblib/parallel.py\", line 794, in dispatch_next\n",
      "    if not self.dispatch_one_batch(self._original_iterator):\n",
      "  File \"/zhome/02/e/127482/.local/lib/python3.9/site-packages/joblib/parallel.py\", line 861, in dispatch_one_batch\n",
      "    self._dispatch(tasks)\n",
      "  File \"/zhome/02/e/127482/.local/lib/python3.9/site-packages/joblib/parallel.py\", line 779, in _dispatch\n",
      "    job = self._backend.apply_async(batch, callback=cb)\n",
      "  File \"/zhome/02/e/127482/.local/lib/python3.9/site-packages/joblib/_parallel_backends.py\", line 531, in apply_async\n",
      "    future = self._workers.submit(SafeFunction(func))\n",
      "  File \"/zhome/02/e/127482/.local/lib/python3.9/site-packages/joblib/externals/loky/reusable_executor.py\", line 177, in submit\n",
      "    return super(_ReusablePoolExecutor, self).submit(\n",
      "  File \"/zhome/02/e/127482/.local/lib/python3.9/site-packages/joblib/externals/loky/process_executor.py\", line 1115, in submit\n",
      "    raise self._flags.broken\n",
      "joblib.externals.loky.process_executor.BrokenProcessPool: A result has failed to un-serialize. Please ensure that the objects returned by the function are always picklable.\n"
     ]
    },
    {
     "ename": "BrokenProcessPool",
     "evalue": "A result has failed to un-serialize. Please ensure that the objects returned by the function are always picklable.",
     "output_type": "error",
     "traceback": [
      "\u001b[0;31m---------------------------------------------------------------------------\u001b[0m",
      "\u001b[0;31m_RemoteTraceback\u001b[0m                          Traceback (most recent call last)",
      "\u001b[0;31m_RemoteTraceback\u001b[0m: \n\"\"\"\nTraceback (most recent call last):\n  File \"/zhome/02/e/127482/.local/lib/python3.9/site-packages/joblib/externals/loky/process_executor.py\", line 624, in wait_result_broken_or_wakeup\n  File \"/appl/python/3.9.11/lib/python3.9/multiprocessing/connection.py\", line 255, in recv\n    buf = self._recv_bytes()\n  File \"/appl/python/3.9.11/lib/python3.9/multiprocessing/connection.py\", line 426, in _recv_bytes\n    return self._recv(size)\n  File \"/appl/python/3.9.11/lib/python3.9/multiprocessing/connection.py\", line 391, in _recv\n    buf.write(chunk)\nMemoryError\n\"\"\"",
      "\nThe above exception was the direct cause of the following exception:\n",
      "\u001b[0;31mBrokenProcessPool\u001b[0m                         Traceback (most recent call last)",
      "Input \u001b[0;32mIn [81]\u001b[0m, in \u001b[0;36m<cell line: 3>\u001b[0;34m()\u001b[0m\n\u001b[1;32m      8\u001b[0m \u001b[38;5;28mprint\u001b[39m(\u001b[38;5;124m'\u001b[39m\u001b[38;5;124mAttribute\u001b[39m\u001b[38;5;124m'\u001b[39m, k)\n\u001b[1;32m     10\u001b[0m random_forest \u001b[38;5;241m=\u001b[39m ensemble\u001b[38;5;241m.\u001b[39mRandomForestRegressor(\n\u001b[1;32m     11\u001b[0m         n_estimators\u001b[38;5;241m=\u001b[39mn_trees, \n\u001b[1;32m     12\u001b[0m         max_samples\u001b[38;5;241m=\u001b[39mfactor\u001b[38;5;241m/\u001b[39mn_trees)\n\u001b[0;32m---> 13\u001b[0m \u001b[43mrandom_forest\u001b[49m\u001b[38;5;241;43m.\u001b[39;49m\u001b[43mfit\u001b[49m\u001b[43m(\u001b[49m\u001b[43mAtrain\u001b[49m\u001b[43m,\u001b[49m\u001b[43m \u001b[49m\u001b[43mytrain\u001b[49m\u001b[43m[\u001b[49m\u001b[43m:\u001b[49m\u001b[43m,\u001b[49m\u001b[43mk\u001b[49m\u001b[43m]\u001b[49m\u001b[43m)\u001b[49m\n\u001b[1;32m     15\u001b[0m \u001b[38;5;66;03m# yhat_train_forest = random_forest.predict(Atrain)\u001b[39;00m\n\u001b[1;32m     16\u001b[0m \u001b[38;5;66;03m# yhat_val_forest = random_forest.predict(Aval)\u001b[39;00m\n\u001b[1;32m     18\u001b[0m \u001b[38;5;28mprint\u001b[39m(\u001b[38;5;124m'\u001b[39m\u001b[38;5;124mTime:\u001b[39m\u001b[38;5;124m'\u001b[39m, time\u001b[38;5;241m.\u001b[39mtime() \u001b[38;5;241m-\u001b[39m s)\n",
      "File \u001b[0;32m~/.local/lib/python3.9/site-packages/sklearn/ensemble/_forest.py:450\u001b[0m, in \u001b[0;36mBaseForest.fit\u001b[0;34m(self, X, y, sample_weight)\u001b[0m\n\u001b[1;32m    439\u001b[0m trees \u001b[38;5;241m=\u001b[39m [\n\u001b[1;32m    440\u001b[0m     \u001b[38;5;28mself\u001b[39m\u001b[38;5;241m.\u001b[39m_make_estimator(append\u001b[38;5;241m=\u001b[39m\u001b[38;5;28;01mFalse\u001b[39;00m, random_state\u001b[38;5;241m=\u001b[39mrandom_state)\n\u001b[1;32m    441\u001b[0m     \u001b[38;5;28;01mfor\u001b[39;00m i \u001b[38;5;129;01min\u001b[39;00m \u001b[38;5;28mrange\u001b[39m(n_more_estimators)\n\u001b[1;32m    442\u001b[0m ]\n\u001b[1;32m    444\u001b[0m \u001b[38;5;66;03m# Parallel loop: we prefer the threading backend as the Cython code\u001b[39;00m\n\u001b[1;32m    445\u001b[0m \u001b[38;5;66;03m# for fitting the trees is internally releasing the Python GIL\u001b[39;00m\n\u001b[1;32m    446\u001b[0m \u001b[38;5;66;03m# making threading more efficient than multiprocessing in\u001b[39;00m\n\u001b[1;32m    447\u001b[0m \u001b[38;5;66;03m# that case. However, for joblib 0.12+ we respect any\u001b[39;00m\n\u001b[1;32m    448\u001b[0m \u001b[38;5;66;03m# parallel_backend contexts set at a higher level,\u001b[39;00m\n\u001b[1;32m    449\u001b[0m \u001b[38;5;66;03m# since correctness does not rely on using threads.\u001b[39;00m\n\u001b[0;32m--> 450\u001b[0m trees \u001b[38;5;241m=\u001b[39m \u001b[43mParallel\u001b[49m\u001b[43m(\u001b[49m\n\u001b[1;32m    451\u001b[0m \u001b[43m    \u001b[49m\u001b[43mn_jobs\u001b[49m\u001b[38;5;241;43m=\u001b[39;49m\u001b[38;5;28;43mself\u001b[39;49m\u001b[38;5;241;43m.\u001b[39;49m\u001b[43mn_jobs\u001b[49m\u001b[43m,\u001b[49m\n\u001b[1;32m    452\u001b[0m \u001b[43m    \u001b[49m\u001b[43mverbose\u001b[49m\u001b[38;5;241;43m=\u001b[39;49m\u001b[38;5;28;43mself\u001b[39;49m\u001b[38;5;241;43m.\u001b[39;49m\u001b[43mverbose\u001b[49m\u001b[43m,\u001b[49m\n\u001b[1;32m    453\u001b[0m \u001b[43m    \u001b[49m\u001b[38;5;241;43m*\u001b[39;49m\u001b[38;5;241;43m*\u001b[39;49m\u001b[43m_joblib_parallel_args\u001b[49m\u001b[43m(\u001b[49m\u001b[43mprefer\u001b[49m\u001b[38;5;241;43m=\u001b[39;49m\u001b[38;5;124;43m\"\u001b[39;49m\u001b[38;5;124;43mthreads\u001b[39;49m\u001b[38;5;124;43m\"\u001b[39;49m\u001b[43m)\u001b[49m\u001b[43m,\u001b[49m\n\u001b[1;32m    454\u001b[0m \u001b[43m\u001b[49m\u001b[43m)\u001b[49m\u001b[43m(\u001b[49m\n\u001b[1;32m    455\u001b[0m \u001b[43m    \u001b[49m\u001b[43mdelayed\u001b[49m\u001b[43m(\u001b[49m\u001b[43m_parallel_build_trees\u001b[49m\u001b[43m)\u001b[49m\u001b[43m(\u001b[49m\n\u001b[1;32m    456\u001b[0m \u001b[43m        \u001b[49m\u001b[43mt\u001b[49m\u001b[43m,\u001b[49m\n\u001b[1;32m    457\u001b[0m \u001b[43m        \u001b[49m\u001b[38;5;28;43mself\u001b[39;49m\u001b[43m,\u001b[49m\n\u001b[1;32m    458\u001b[0m \u001b[43m        \u001b[49m\u001b[43mX\u001b[49m\u001b[43m,\u001b[49m\n\u001b[1;32m    459\u001b[0m \u001b[43m        \u001b[49m\u001b[43my\u001b[49m\u001b[43m,\u001b[49m\n\u001b[1;32m    460\u001b[0m \u001b[43m        \u001b[49m\u001b[43msample_weight\u001b[49m\u001b[43m,\u001b[49m\n\u001b[1;32m    461\u001b[0m \u001b[43m        \u001b[49m\u001b[43mi\u001b[49m\u001b[43m,\u001b[49m\n\u001b[1;32m    462\u001b[0m \u001b[43m        \u001b[49m\u001b[38;5;28;43mlen\u001b[39;49m\u001b[43m(\u001b[49m\u001b[43mtrees\u001b[49m\u001b[43m)\u001b[49m\u001b[43m,\u001b[49m\n\u001b[1;32m    463\u001b[0m \u001b[43m        \u001b[49m\u001b[43mverbose\u001b[49m\u001b[38;5;241;43m=\u001b[39;49m\u001b[38;5;28;43mself\u001b[39;49m\u001b[38;5;241;43m.\u001b[39;49m\u001b[43mverbose\u001b[49m\u001b[43m,\u001b[49m\n\u001b[1;32m    464\u001b[0m \u001b[43m        \u001b[49m\u001b[43mclass_weight\u001b[49m\u001b[38;5;241;43m=\u001b[39;49m\u001b[38;5;28;43mself\u001b[39;49m\u001b[38;5;241;43m.\u001b[39;49m\u001b[43mclass_weight\u001b[49m\u001b[43m,\u001b[49m\n\u001b[1;32m    465\u001b[0m \u001b[43m        \u001b[49m\u001b[43mn_samples_bootstrap\u001b[49m\u001b[38;5;241;43m=\u001b[39;49m\u001b[43mn_samples_bootstrap\u001b[49m\u001b[43m,\u001b[49m\n\u001b[1;32m    466\u001b[0m \u001b[43m    \u001b[49m\u001b[43m)\u001b[49m\n\u001b[1;32m    467\u001b[0m \u001b[43m    \u001b[49m\u001b[38;5;28;43;01mfor\u001b[39;49;00m\u001b[43m \u001b[49m\u001b[43mi\u001b[49m\u001b[43m,\u001b[49m\u001b[43m \u001b[49m\u001b[43mt\u001b[49m\u001b[43m \u001b[49m\u001b[38;5;129;43;01min\u001b[39;49;00m\u001b[43m \u001b[49m\u001b[38;5;28;43menumerate\u001b[39;49m\u001b[43m(\u001b[49m\u001b[43mtrees\u001b[49m\u001b[43m)\u001b[49m\n\u001b[1;32m    468\u001b[0m \u001b[43m\u001b[49m\u001b[43m)\u001b[49m\n\u001b[1;32m    470\u001b[0m \u001b[38;5;66;03m# Collect newly grown trees\u001b[39;00m\n\u001b[1;32m    471\u001b[0m \u001b[38;5;28mself\u001b[39m\u001b[38;5;241m.\u001b[39mestimators_\u001b[38;5;241m.\u001b[39mextend(trees)\n",
      "File \u001b[0;32m~/.local/lib/python3.9/site-packages/joblib/parallel.py:1056\u001b[0m, in \u001b[0;36mParallel.__call__\u001b[0;34m(self, iterable)\u001b[0m\n\u001b[1;32m   1053\u001b[0m     \u001b[38;5;28mself\u001b[39m\u001b[38;5;241m.\u001b[39m_iterating \u001b[38;5;241m=\u001b[39m \u001b[38;5;28;01mFalse\u001b[39;00m\n\u001b[1;32m   1055\u001b[0m \u001b[38;5;28;01mwith\u001b[39;00m \u001b[38;5;28mself\u001b[39m\u001b[38;5;241m.\u001b[39m_backend\u001b[38;5;241m.\u001b[39mretrieval_context():\n\u001b[0;32m-> 1056\u001b[0m     \u001b[38;5;28;43mself\u001b[39;49m\u001b[38;5;241;43m.\u001b[39;49m\u001b[43mretrieve\u001b[49m\u001b[43m(\u001b[49m\u001b[43m)\u001b[49m\n\u001b[1;32m   1057\u001b[0m \u001b[38;5;66;03m# Make sure that we get a last message telling us we are done\u001b[39;00m\n\u001b[1;32m   1058\u001b[0m elapsed_time \u001b[38;5;241m=\u001b[39m time\u001b[38;5;241m.\u001b[39mtime() \u001b[38;5;241m-\u001b[39m \u001b[38;5;28mself\u001b[39m\u001b[38;5;241m.\u001b[39m_start_time\n",
      "File \u001b[0;32m~/.local/lib/python3.9/site-packages/joblib/parallel.py:935\u001b[0m, in \u001b[0;36mParallel.retrieve\u001b[0;34m(self)\u001b[0m\n\u001b[1;32m    933\u001b[0m \u001b[38;5;28;01mtry\u001b[39;00m:\n\u001b[1;32m    934\u001b[0m     \u001b[38;5;28;01mif\u001b[39;00m \u001b[38;5;28mgetattr\u001b[39m(\u001b[38;5;28mself\u001b[39m\u001b[38;5;241m.\u001b[39m_backend, \u001b[38;5;124m'\u001b[39m\u001b[38;5;124msupports_timeout\u001b[39m\u001b[38;5;124m'\u001b[39m, \u001b[38;5;28;01mFalse\u001b[39;00m):\n\u001b[0;32m--> 935\u001b[0m         \u001b[38;5;28mself\u001b[39m\u001b[38;5;241m.\u001b[39m_output\u001b[38;5;241m.\u001b[39mextend(\u001b[43mjob\u001b[49m\u001b[38;5;241;43m.\u001b[39;49m\u001b[43mget\u001b[49m\u001b[43m(\u001b[49m\u001b[43mtimeout\u001b[49m\u001b[38;5;241;43m=\u001b[39;49m\u001b[38;5;28;43mself\u001b[39;49m\u001b[38;5;241;43m.\u001b[39;49m\u001b[43mtimeout\u001b[49m\u001b[43m)\u001b[49m)\n\u001b[1;32m    936\u001b[0m     \u001b[38;5;28;01melse\u001b[39;00m:\n\u001b[1;32m    937\u001b[0m         \u001b[38;5;28mself\u001b[39m\u001b[38;5;241m.\u001b[39m_output\u001b[38;5;241m.\u001b[39mextend(job\u001b[38;5;241m.\u001b[39mget())\n",
      "File \u001b[0;32m~/.local/lib/python3.9/site-packages/joblib/_parallel_backends.py:542\u001b[0m, in \u001b[0;36mLokyBackend.wrap_future_result\u001b[0;34m(future, timeout)\u001b[0m\n\u001b[1;32m    539\u001b[0m \u001b[38;5;124;03m\"\"\"Wrapper for Future.result to implement the same behaviour as\u001b[39;00m\n\u001b[1;32m    540\u001b[0m \u001b[38;5;124;03mAsyncResults.get from multiprocessing.\"\"\"\u001b[39;00m\n\u001b[1;32m    541\u001b[0m \u001b[38;5;28;01mtry\u001b[39;00m:\n\u001b[0;32m--> 542\u001b[0m     \u001b[38;5;28;01mreturn\u001b[39;00m \u001b[43mfuture\u001b[49m\u001b[38;5;241;43m.\u001b[39;49m\u001b[43mresult\u001b[49m\u001b[43m(\u001b[49m\u001b[43mtimeout\u001b[49m\u001b[38;5;241;43m=\u001b[39;49m\u001b[43mtimeout\u001b[49m\u001b[43m)\u001b[49m\n\u001b[1;32m    543\u001b[0m \u001b[38;5;28;01mexcept\u001b[39;00m CfTimeoutError \u001b[38;5;28;01mas\u001b[39;00m e:\n\u001b[1;32m    544\u001b[0m     \u001b[38;5;28;01mraise\u001b[39;00m \u001b[38;5;167;01mTimeoutError\u001b[39;00m \u001b[38;5;28;01mfrom\u001b[39;00m \u001b[38;5;21;01me\u001b[39;00m\n",
      "File \u001b[0;32m/appl/python/3.9.11/lib/python3.9/concurrent/futures/_base.py:446\u001b[0m, in \u001b[0;36mFuture.result\u001b[0;34m(self, timeout)\u001b[0m\n\u001b[1;32m    444\u001b[0m     \u001b[38;5;28;01mraise\u001b[39;00m CancelledError()\n\u001b[1;32m    445\u001b[0m \u001b[38;5;28;01melif\u001b[39;00m \u001b[38;5;28mself\u001b[39m\u001b[38;5;241m.\u001b[39m_state \u001b[38;5;241m==\u001b[39m FINISHED:\n\u001b[0;32m--> 446\u001b[0m     \u001b[38;5;28;01mreturn\u001b[39;00m \u001b[38;5;28;43mself\u001b[39;49m\u001b[38;5;241;43m.\u001b[39;49m\u001b[43m__get_result\u001b[49m\u001b[43m(\u001b[49m\u001b[43m)\u001b[49m\n\u001b[1;32m    447\u001b[0m \u001b[38;5;28;01melse\u001b[39;00m:\n\u001b[1;32m    448\u001b[0m     \u001b[38;5;28;01mraise\u001b[39;00m \u001b[38;5;167;01mTimeoutError\u001b[39;00m()\n",
      "File \u001b[0;32m/appl/python/3.9.11/lib/python3.9/concurrent/futures/_base.py:391\u001b[0m, in \u001b[0;36mFuture.__get_result\u001b[0;34m(self)\u001b[0m\n\u001b[1;32m    389\u001b[0m \u001b[38;5;28;01mif\u001b[39;00m \u001b[38;5;28mself\u001b[39m\u001b[38;5;241m.\u001b[39m_exception:\n\u001b[1;32m    390\u001b[0m     \u001b[38;5;28;01mtry\u001b[39;00m:\n\u001b[0;32m--> 391\u001b[0m         \u001b[38;5;28;01mraise\u001b[39;00m \u001b[38;5;28mself\u001b[39m\u001b[38;5;241m.\u001b[39m_exception\n\u001b[1;32m    392\u001b[0m     \u001b[38;5;28;01mfinally\u001b[39;00m:\n\u001b[1;32m    393\u001b[0m         \u001b[38;5;66;03m# Break a reference cycle with the exception in self._exception\u001b[39;00m\n\u001b[1;32m    394\u001b[0m         \u001b[38;5;28mself\u001b[39m \u001b[38;5;241m=\u001b[39m \u001b[38;5;28;01mNone\u001b[39;00m\n",
      "File \u001b[0;32m~/.local/lib/python3.9/site-packages/joblib/externals/loky/_base.py:625\u001b[0m, in \u001b[0;36mFuture._invoke_callbacks\u001b[0;34m(self)\u001b[0m\n\u001b[1;32m    623\u001b[0m \u001b[38;5;28;01mfor\u001b[39;00m callback \u001b[38;5;129;01min\u001b[39;00m \u001b[38;5;28mself\u001b[39m\u001b[38;5;241m.\u001b[39m_done_callbacks:\n\u001b[1;32m    624\u001b[0m     \u001b[38;5;28;01mtry\u001b[39;00m:\n\u001b[0;32m--> 625\u001b[0m         \u001b[43mcallback\u001b[49m\u001b[43m(\u001b[49m\u001b[38;5;28;43mself\u001b[39;49m\u001b[43m)\u001b[49m\n\u001b[1;32m    626\u001b[0m     \u001b[38;5;28;01mexcept\u001b[39;00m \u001b[38;5;167;01mBaseException\u001b[39;00m:\n\u001b[1;32m    627\u001b[0m         LOGGER\u001b[38;5;241m.\u001b[39mexception(\u001b[38;5;124m'\u001b[39m\u001b[38;5;124mexception calling callback for \u001b[39m\u001b[38;5;132;01m%r\u001b[39;00m\u001b[38;5;124m'\u001b[39m, \u001b[38;5;28mself\u001b[39m)\n",
      "File \u001b[0;32m~/.local/lib/python3.9/site-packages/joblib/parallel.py:359\u001b[0m, in \u001b[0;36mBatchCompletionCallBack.__call__\u001b[0;34m(self, out)\u001b[0m\n\u001b[1;32m    357\u001b[0m \u001b[38;5;28;01mwith\u001b[39;00m \u001b[38;5;28mself\u001b[39m\u001b[38;5;241m.\u001b[39mparallel\u001b[38;5;241m.\u001b[39m_lock:\n\u001b[1;32m    358\u001b[0m     \u001b[38;5;28;01mif\u001b[39;00m \u001b[38;5;28mself\u001b[39m\u001b[38;5;241m.\u001b[39mparallel\u001b[38;5;241m.\u001b[39m_original_iterator \u001b[38;5;129;01mis\u001b[39;00m \u001b[38;5;129;01mnot\u001b[39;00m \u001b[38;5;28;01mNone\u001b[39;00m:\n\u001b[0;32m--> 359\u001b[0m         \u001b[38;5;28;43mself\u001b[39;49m\u001b[38;5;241;43m.\u001b[39;49m\u001b[43mparallel\u001b[49m\u001b[38;5;241;43m.\u001b[39;49m\u001b[43mdispatch_next\u001b[49m\u001b[43m(\u001b[49m\u001b[43m)\u001b[49m\n",
      "File \u001b[0;32m~/.local/lib/python3.9/site-packages/joblib/parallel.py:794\u001b[0m, in \u001b[0;36mParallel.dispatch_next\u001b[0;34m(self)\u001b[0m\n\u001b[1;32m    786\u001b[0m \u001b[38;5;28;01mdef\u001b[39;00m \u001b[38;5;21mdispatch_next\u001b[39m(\u001b[38;5;28mself\u001b[39m):\n\u001b[1;32m    787\u001b[0m     \u001b[38;5;124;03m\"\"\"Dispatch more data for parallel processing\u001b[39;00m\n\u001b[1;32m    788\u001b[0m \n\u001b[1;32m    789\u001b[0m \u001b[38;5;124;03m    This method is meant to be called concurrently by the multiprocessing\u001b[39;00m\n\u001b[0;32m   (...)\u001b[0m\n\u001b[1;32m    792\u001b[0m \n\u001b[1;32m    793\u001b[0m \u001b[38;5;124;03m    \"\"\"\u001b[39;00m\n\u001b[0;32m--> 794\u001b[0m     \u001b[38;5;28;01mif\u001b[39;00m \u001b[38;5;129;01mnot\u001b[39;00m \u001b[38;5;28;43mself\u001b[39;49m\u001b[38;5;241;43m.\u001b[39;49m\u001b[43mdispatch_one_batch\u001b[49m\u001b[43m(\u001b[49m\u001b[38;5;28;43mself\u001b[39;49m\u001b[38;5;241;43m.\u001b[39;49m\u001b[43m_original_iterator\u001b[49m\u001b[43m)\u001b[49m:\n\u001b[1;32m    795\u001b[0m         \u001b[38;5;28mself\u001b[39m\u001b[38;5;241m.\u001b[39m_iterating \u001b[38;5;241m=\u001b[39m \u001b[38;5;28;01mFalse\u001b[39;00m\n\u001b[1;32m    796\u001b[0m         \u001b[38;5;28mself\u001b[39m\u001b[38;5;241m.\u001b[39m_original_iterator \u001b[38;5;241m=\u001b[39m \u001b[38;5;28;01mNone\u001b[39;00m\n",
      "File \u001b[0;32m~/.local/lib/python3.9/site-packages/joblib/parallel.py:861\u001b[0m, in \u001b[0;36mParallel.dispatch_one_batch\u001b[0;34m(self, iterator)\u001b[0m\n\u001b[1;32m    859\u001b[0m     \u001b[38;5;28;01mreturn\u001b[39;00m \u001b[38;5;28;01mFalse\u001b[39;00m\n\u001b[1;32m    860\u001b[0m \u001b[38;5;28;01melse\u001b[39;00m:\n\u001b[0;32m--> 861\u001b[0m     \u001b[38;5;28;43mself\u001b[39;49m\u001b[38;5;241;43m.\u001b[39;49m\u001b[43m_dispatch\u001b[49m\u001b[43m(\u001b[49m\u001b[43mtasks\u001b[49m\u001b[43m)\u001b[49m\n\u001b[1;32m    862\u001b[0m     \u001b[38;5;28;01mreturn\u001b[39;00m \u001b[38;5;28;01mTrue\u001b[39;00m\n",
      "File \u001b[0;32m~/.local/lib/python3.9/site-packages/joblib/parallel.py:779\u001b[0m, in \u001b[0;36mParallel._dispatch\u001b[0;34m(self, batch)\u001b[0m\n\u001b[1;32m    777\u001b[0m \u001b[38;5;28;01mwith\u001b[39;00m \u001b[38;5;28mself\u001b[39m\u001b[38;5;241m.\u001b[39m_lock:\n\u001b[1;32m    778\u001b[0m     job_idx \u001b[38;5;241m=\u001b[39m \u001b[38;5;28mlen\u001b[39m(\u001b[38;5;28mself\u001b[39m\u001b[38;5;241m.\u001b[39m_jobs)\n\u001b[0;32m--> 779\u001b[0m     job \u001b[38;5;241m=\u001b[39m \u001b[38;5;28;43mself\u001b[39;49m\u001b[38;5;241;43m.\u001b[39;49m\u001b[43m_backend\u001b[49m\u001b[38;5;241;43m.\u001b[39;49m\u001b[43mapply_async\u001b[49m\u001b[43m(\u001b[49m\u001b[43mbatch\u001b[49m\u001b[43m,\u001b[49m\u001b[43m \u001b[49m\u001b[43mcallback\u001b[49m\u001b[38;5;241;43m=\u001b[39;49m\u001b[43mcb\u001b[49m\u001b[43m)\u001b[49m\n\u001b[1;32m    780\u001b[0m     \u001b[38;5;66;03m# A job can complete so quickly than its callback is\u001b[39;00m\n\u001b[1;32m    781\u001b[0m     \u001b[38;5;66;03m# called before we get here, causing self._jobs to\u001b[39;00m\n\u001b[1;32m    782\u001b[0m     \u001b[38;5;66;03m# grow. To ensure correct results ordering, .insert is\u001b[39;00m\n\u001b[1;32m    783\u001b[0m     \u001b[38;5;66;03m# used (rather than .append) in the following line\u001b[39;00m\n\u001b[1;32m    784\u001b[0m     \u001b[38;5;28mself\u001b[39m\u001b[38;5;241m.\u001b[39m_jobs\u001b[38;5;241m.\u001b[39minsert(job_idx, job)\n",
      "File \u001b[0;32m~/.local/lib/python3.9/site-packages/joblib/_parallel_backends.py:531\u001b[0m, in \u001b[0;36mLokyBackend.apply_async\u001b[0;34m(self, func, callback)\u001b[0m\n\u001b[1;32m    529\u001b[0m \u001b[38;5;28;01mdef\u001b[39;00m \u001b[38;5;21mapply_async\u001b[39m(\u001b[38;5;28mself\u001b[39m, func, callback\u001b[38;5;241m=\u001b[39m\u001b[38;5;28;01mNone\u001b[39;00m):\n\u001b[1;32m    530\u001b[0m     \u001b[38;5;124;03m\"\"\"Schedule a func to be run\"\"\"\u001b[39;00m\n\u001b[0;32m--> 531\u001b[0m     future \u001b[38;5;241m=\u001b[39m \u001b[38;5;28;43mself\u001b[39;49m\u001b[38;5;241;43m.\u001b[39;49m\u001b[43m_workers\u001b[49m\u001b[38;5;241;43m.\u001b[39;49m\u001b[43msubmit\u001b[49m\u001b[43m(\u001b[49m\u001b[43mSafeFunction\u001b[49m\u001b[43m(\u001b[49m\u001b[43mfunc\u001b[49m\u001b[43m)\u001b[49m\u001b[43m)\u001b[49m\n\u001b[1;32m    532\u001b[0m     future\u001b[38;5;241m.\u001b[39mget \u001b[38;5;241m=\u001b[39m functools\u001b[38;5;241m.\u001b[39mpartial(\u001b[38;5;28mself\u001b[39m\u001b[38;5;241m.\u001b[39mwrap_future_result, future)\n\u001b[1;32m    533\u001b[0m     \u001b[38;5;28;01mif\u001b[39;00m callback \u001b[38;5;129;01mis\u001b[39;00m \u001b[38;5;129;01mnot\u001b[39;00m \u001b[38;5;28;01mNone\u001b[39;00m:\n",
      "File \u001b[0;32m~/.local/lib/python3.9/site-packages/joblib/externals/loky/reusable_executor.py:177\u001b[0m, in \u001b[0;36m_ReusablePoolExecutor.submit\u001b[0;34m(self, fn, *args, **kwargs)\u001b[0m\n\u001b[1;32m    175\u001b[0m \u001b[38;5;28;01mdef\u001b[39;00m \u001b[38;5;21msubmit\u001b[39m(\u001b[38;5;28mself\u001b[39m, fn, \u001b[38;5;241m*\u001b[39margs, \u001b[38;5;241m*\u001b[39m\u001b[38;5;241m*\u001b[39mkwargs):\n\u001b[1;32m    176\u001b[0m     \u001b[38;5;28;01mwith\u001b[39;00m \u001b[38;5;28mself\u001b[39m\u001b[38;5;241m.\u001b[39m_submit_resize_lock:\n\u001b[0;32m--> 177\u001b[0m         \u001b[38;5;28;01mreturn\u001b[39;00m \u001b[38;5;28;43msuper\u001b[39;49m\u001b[43m(\u001b[49m\u001b[43m_ReusablePoolExecutor\u001b[49m\u001b[43m,\u001b[49m\u001b[43m \u001b[49m\u001b[38;5;28;43mself\u001b[39;49m\u001b[43m)\u001b[49m\u001b[38;5;241;43m.\u001b[39;49m\u001b[43msubmit\u001b[49m\u001b[43m(\u001b[49m\n\u001b[1;32m    178\u001b[0m \u001b[43m            \u001b[49m\u001b[43mfn\u001b[49m\u001b[43m,\u001b[49m\u001b[43m \u001b[49m\u001b[38;5;241;43m*\u001b[39;49m\u001b[43margs\u001b[49m\u001b[43m,\u001b[49m\u001b[43m \u001b[49m\u001b[38;5;241;43m*\u001b[39;49m\u001b[38;5;241;43m*\u001b[39;49m\u001b[43mkwargs\u001b[49m\u001b[43m)\u001b[49m\n",
      "File \u001b[0;32m~/.local/lib/python3.9/site-packages/joblib/externals/loky/process_executor.py:1115\u001b[0m, in \u001b[0;36mProcessPoolExecutor.submit\u001b[0;34m(self, fn, *args, **kwargs)\u001b[0m\n\u001b[1;32m   1113\u001b[0m \u001b[38;5;28;01mwith\u001b[39;00m \u001b[38;5;28mself\u001b[39m\u001b[38;5;241m.\u001b[39m_flags\u001b[38;5;241m.\u001b[39mshutdown_lock:\n\u001b[1;32m   1114\u001b[0m     \u001b[38;5;28;01mif\u001b[39;00m \u001b[38;5;28mself\u001b[39m\u001b[38;5;241m.\u001b[39m_flags\u001b[38;5;241m.\u001b[39mbroken \u001b[38;5;129;01mis\u001b[39;00m \u001b[38;5;129;01mnot\u001b[39;00m \u001b[38;5;28;01mNone\u001b[39;00m:\n\u001b[0;32m-> 1115\u001b[0m         \u001b[38;5;28;01mraise\u001b[39;00m \u001b[38;5;28mself\u001b[39m\u001b[38;5;241m.\u001b[39m_flags\u001b[38;5;241m.\u001b[39mbroken\n\u001b[1;32m   1116\u001b[0m     \u001b[38;5;28;01mif\u001b[39;00m \u001b[38;5;28mself\u001b[39m\u001b[38;5;241m.\u001b[39m_flags\u001b[38;5;241m.\u001b[39mshutdown:\n\u001b[1;32m   1117\u001b[0m         \u001b[38;5;28;01mraise\u001b[39;00m ShutdownExecutorError(\n\u001b[1;32m   1118\u001b[0m             \u001b[38;5;124m'\u001b[39m\u001b[38;5;124mcannot schedule new futures after shutdown\u001b[39m\u001b[38;5;124m'\u001b[39m)\n",
      "\u001b[0;31mBrokenProcessPool\u001b[0m: A result has failed to un-serialize. Please ensure that the objects returned by the function are always picklable."
     ]
    }
   ],
   "source": [
    "random_forests = [None] * ytrain.shape[1]\n",
    "\n",
    "with parallel_backend('loky', n_jobs=-1):\n",
    "    factor = 100\n",
    "    n_trees = 5000\n",
    "    for k in range(ytrain.shape[1]):\n",
    "        s = time.time()\n",
    "        print('Attribute', k)\n",
    "\n",
    "        random_forest = ensemble.RandomForestRegressor(\n",
    "                n_estimators=n_trees, \n",
    "                max_samples=factor/n_trees)\n",
    "        random_forest.fit(Atrain, ytrain[:,k])\n",
    "\n",
    "        # yhat_train_forest = random_forest.predict(Atrain)\n",
    "        # yhat_val_forest = random_forest.predict(Aval)\n",
    "\n",
    "        print('Time:', time.time() - s)\n",
    "        random_forests[k] = random_forest\n",
    "        s = time.time()"
   ]
  },
  {
   "cell_type": "code",
   "execution_count": 86,
   "metadata": {},
   "outputs": [],
   "source": [
    "y_pred0 = random_forests[0].predict(Aval[:2000,:])\n",
    "y_pred1 = random_forests[1].predict(Aval[:2000,:])\n",
    "y_pred2 = random_forests[2].predict(Aval[:2000,:])\n",
    "y_pred3 = random_forests[3].predict(Aval[:2000,:])"
   ]
  },
  {
   "cell_type": "code",
   "execution_count": 92,
   "metadata": {},
   "outputs": [
    {
     "name": "stdout",
     "output_type": "stream",
     "text": [
      "(2000, 4)\n"
     ]
    }
   ],
   "source": [
    "print(y_pred.shape)"
   ]
  },
  {
   "cell_type": "code",
   "execution_count": 102,
   "metadata": {},
   "outputs": [],
   "source": [
    "y_pred = np.transpose(np.vstack([y_pred0, y_pred1, y_pred2, y_pred3]))\n",
    "y_true = yval[:,0:4]\n",
    "labels = ['LivLongSxD1 [mm]', 'LivLongDxD1 [mm]', 'AllinSxD1 [mm]', 'AllinDxD1 [mm]']\n",
    "\n",
    "fig, axes = plt.subplots(2,2,figsize=(8,8))\n",
    "for i, ax in enumerate(axes.flatten()):\n",
    "    if i < 3:\n",
    "        p1 = ax.plot(np.arange(0,200)/2,y_pred[1100:1300,i])\n",
    "        p2 = ax.plot(np.arange(0,200)/2,y_true[1100:1300,i])\n",
    "    else:\n",
    "        p1 = ax.plot(np.arange(0,200)/2,y_pred[1100:1300,i], label=\"Predictions\")\n",
    "        p2 = ax.plot(np.arange(0,200)/2,y_true[1100:1300,i], label=\"Ground truth\")\n",
    "        ax.legend()\n",
    "    ax.set_xlabel('Position [m]')\n",
    "    ax.set_ylabel(labels[i])\n",
    "#fig.legend()\n",
    "fig.tight_layout()\n",
    "plt.savefig('plots/simple_model_rf.pdf',format='pdf')\n",
    "plt.show()"
   ]
  }
 ],
 "metadata": {
  "interpreter": {
   "hash": "f9f85f796d01129d0dd105a088854619f454435301f6ffec2fea96ecbd9be4ac"
  },
  "kernelspec": {
   "display_name": "Python 3",
   "language": "python",
   "name": "python3"
  },
  "language_info": {
   "codemirror_mode": {
    "name": "ipython",
    "version": 3
   },
   "file_extension": ".py",
   "mimetype": "text/x-python",
   "name": "python",
   "nbconvert_exporter": "python",
   "pygments_lexer": "ipython3",
   "version": "3.9.11"
  }
 },
 "nbformat": 4,
 "nbformat_minor": 2
}
